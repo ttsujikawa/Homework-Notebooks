{
  "cells": [
    {
      "cell_type": "markdown",
      "metadata": {
        "id": "_PGNqYy0TnBy"
      },
      "source": [
        "## <font color=\"red\">*Pitch Your Project*</font>\n",
        "\n",
        "<font color=\"red\">In the three cells immediately following, describe **WHAT** you are planning to analyze for your final project (i.e., texts, contexts and the social game, world and actors you intend to learn about through your analysis) (<200 words), **WHY** you are going to do it (i.e., why would theory and/or the average person benefit from knowing the results of your investigation) (<200 words), and **HOW** you plan to investigate it (i.e., what are the approaches and operations you plan to perform, in sequence, to yield this insight) (<400 words).\n",
        "\n",
        "# ***What?*** \n",
        "<200 words\n",
        "\n",
        "I am planning to implement computational analysis on how cultural difference affects people's ways to develop their relationship with others. \n",
        "\n",
        "\n",
        "## ***Why?***\n",
        "<200 words\n",
        "\n",
        "It will help our better understanding of socialization especially in diverse setting by aknowledging cultural difference in reltion development. \n",
        "\n",
        "\n",
        "## ***How?***\n",
        "<400 words\n",
        "\n",
        "I will utilize texts data extracted from subtitles of reality shows made in distinct countries such as Terrace House. More specifically, I will see how corpus and its topic change as people get know each other more and compare it across different reality shows. Dynamic topi modelling and other topic model would help me improve my hypothesis.\n",
        "\n",
        "\n",
        "## <font color=\"red\">*Pitch Your Sample*</font>\n",
        "\n",
        "<font color=\"red\">In the cell immediately following, describe the rationale behind your proposed sample design for your final project. What is the social game, social work, or social actors you about whom you are seeking to make inferences? What are its virtues with respect to your research questions? What are its limitations? What are alternatives? What would be a reasonable path to \"scale up\" your sample for further analysis (i.e., high-profile publication) beyond this class? (<300 words).\n",
        "\n",
        "## ***Which (words)?***\n",
        "<300 words\n",
        "\n",
        "In this research, sample population is casts in the reality show. This research design is highly ineteresting since we could computationally visualize and quatify such vague and unclear notions as cultural difference. As further research, we would be possible to extend our research to more natural experiment setting rather than reality show and to more complicated network with more individuals.  "
      ]
    },
    {
      "cell_type": "code",
      "source": [
        "pip install -U git+git://github.com/UChicago-Computational-Content-Analysis/lucem_illud.git\n"
      ],
      "metadata": {
        "id": "Ktvl4MXh4DPZ",
        "colab": {
          "base_uri": "https://localhost:8080/"
        },
        "outputId": "43f4ebb3-78c8-4aa1-9856-e9ae1eb80156"
      },
      "execution_count": 101,
      "outputs": [
        {
          "output_type": "stream",
          "name": "stdout",
          "text": [
            "Collecting git+git://github.com/UChicago-Computational-Content-Analysis/lucem_illud.git\n",
            "  Cloning git://github.com/UChicago-Computational-Content-Analysis/lucem_illud.git to /tmp/pip-req-build-fgkcmfg3\n",
            "  Running command git clone -q git://github.com/UChicago-Computational-Content-Analysis/lucem_illud.git /tmp/pip-req-build-fgkcmfg3\n",
            "Requirement already satisfied: numpy in /usr/local/lib/python3.7/dist-packages (from lucem-illud==8.0.1) (1.21.5)\n",
            "Requirement already satisfied: requests in /usr/local/lib/python3.7/dist-packages (from lucem-illud==8.0.1) (2.23.0)\n",
            "Requirement already satisfied: pandas in /usr/local/lib/python3.7/dist-packages (from lucem-illud==8.0.1) (1.3.5)\n",
            "Requirement already satisfied: python-docx in /usr/local/lib/python3.7/dist-packages (from lucem-illud==8.0.1) (0.8.11)\n",
            "Requirement already satisfied: pillow in /usr/local/lib/python3.7/dist-packages (from lucem-illud==8.0.1) (7.1.2)\n",
            "Requirement already satisfied: pdfminer2 in /usr/local/lib/python3.7/dist-packages (from lucem-illud==8.0.1) (20151206)\n",
            "Requirement already satisfied: GitPython in /usr/local/lib/python3.7/dist-packages (from lucem-illud==8.0.1) (3.1.27)\n",
            "Requirement already satisfied: wordcloud in /usr/local/lib/python3.7/dist-packages (from lucem-illud==8.0.1) (1.5.0)\n",
            "Requirement already satisfied: scipy in /usr/local/lib/python3.7/dist-packages (from lucem-illud==8.0.1) (1.4.1)\n",
            "Requirement already satisfied: seaborn in /usr/local/lib/python3.7/dist-packages (from lucem-illud==8.0.1) (0.11.2)\n",
            "Requirement already satisfied: scikit-learn in /usr/local/lib/python3.7/dist-packages (from lucem-illud==8.0.1) (1.0.2)\n",
            "Requirement already satisfied: nltk in /usr/local/lib/python3.7/dist-packages (from lucem-illud==8.0.1) (3.2.5)\n",
            "Requirement already satisfied: gensim in /usr/local/lib/python3.7/dist-packages (from lucem-illud==8.0.1) (3.6.0)\n",
            "Requirement already satisfied: matplotlib in /usr/local/lib/python3.7/dist-packages (from lucem-illud==8.0.1) (3.2.2)\n",
            "Requirement already satisfied: pyanno3 in /usr/local/lib/python3.7/dist-packages (from lucem-illud==8.0.1) (2.0.2)\n",
            "Requirement already satisfied: beautifulsoup4 in /usr/local/lib/python3.7/dist-packages (from lucem-illud==8.0.1) (4.6.3)\n",
            "Requirement already satisfied: graphviz in /usr/local/lib/python3.7/dist-packages (from lucem-illud==8.0.1) (0.10.1)\n",
            "Requirement already satisfied: boto3 in /usr/local/lib/python3.7/dist-packages (from lucem-illud==8.0.1) (1.21.4)\n",
            "Requirement already satisfied: networkx in /usr/local/lib/python3.7/dist-packages (from lucem-illud==8.0.1) (2.6.3)\n",
            "Requirement already satisfied: pydub in /usr/local/lib/python3.7/dist-packages (from lucem-illud==8.0.1) (0.25.1)\n",
            "Requirement already satisfied: speechrecognition in /usr/local/lib/python3.7/dist-packages (from lucem-illud==8.0.1) (3.8.1)\n",
            "Requirement already satisfied: pysoundfile in /usr/local/lib/python3.7/dist-packages (from lucem-illud==8.0.1) (0.9.0.post1)\n",
            "Requirement already satisfied: scikit-image in /usr/local/lib/python3.7/dist-packages (from lucem-illud==8.0.1) (0.18.3)\n",
            "Requirement already satisfied: IPython in /usr/local/lib/python3.7/dist-packages (from lucem-illud==8.0.1) (5.5.0)\n",
            "Requirement already satisfied: spacy in /usr/local/lib/python3.7/dist-packages (from lucem-illud==8.0.1) (2.2.4)\n",
            "Requirement already satisfied: jmespath<1.0.0,>=0.7.1 in /usr/local/lib/python3.7/dist-packages (from boto3->lucem-illud==8.0.1) (0.10.0)\n",
            "Requirement already satisfied: s3transfer<0.6.0,>=0.5.0 in /usr/local/lib/python3.7/dist-packages (from boto3->lucem-illud==8.0.1) (0.5.1)\n",
            "Requirement already satisfied: botocore<1.25.0,>=1.24.4 in /usr/local/lib/python3.7/dist-packages (from boto3->lucem-illud==8.0.1) (1.24.5)\n",
            "Requirement already satisfied: urllib3<1.27,>=1.25.4 in /usr/local/lib/python3.7/dist-packages (from botocore<1.25.0,>=1.24.4->boto3->lucem-illud==8.0.1) (1.25.11)\n",
            "Requirement already satisfied: python-dateutil<3.0.0,>=2.1 in /usr/local/lib/python3.7/dist-packages (from botocore<1.25.0,>=1.24.4->boto3->lucem-illud==8.0.1) (2.8.2)\n",
            "Requirement already satisfied: six>=1.5 in /usr/local/lib/python3.7/dist-packages (from python-dateutil<3.0.0,>=2.1->botocore<1.25.0,>=1.24.4->boto3->lucem-illud==8.0.1) (1.15.0)\n",
            "Requirement already satisfied: smart-open>=1.2.1 in /usr/local/lib/python3.7/dist-packages (from gensim->lucem-illud==8.0.1) (5.2.1)\n",
            "Requirement already satisfied: gitdb<5,>=4.0.1 in /usr/local/lib/python3.7/dist-packages (from GitPython->lucem-illud==8.0.1) (4.0.9)\n",
            "Requirement already satisfied: typing-extensions>=3.7.4.3 in /usr/local/lib/python3.7/dist-packages (from GitPython->lucem-illud==8.0.1) (3.10.0.2)\n",
            "Requirement already satisfied: smmap<6,>=3.0.1 in /usr/local/lib/python3.7/dist-packages (from gitdb<5,>=4.0.1->GitPython->lucem-illud==8.0.1) (5.0.0)\n",
            "Requirement already satisfied: pexpect in /usr/local/lib/python3.7/dist-packages (from IPython->lucem-illud==8.0.1) (4.8.0)\n",
            "Requirement already satisfied: setuptools>=18.5 in /usr/local/lib/python3.7/dist-packages (from IPython->lucem-illud==8.0.1) (57.4.0)\n",
            "Requirement already satisfied: simplegeneric>0.8 in /usr/local/lib/python3.7/dist-packages (from IPython->lucem-illud==8.0.1) (0.8.1)\n",
            "Requirement already satisfied: prompt-toolkit<2.0.0,>=1.0.4 in /usr/local/lib/python3.7/dist-packages (from IPython->lucem-illud==8.0.1) (1.0.18)\n",
            "Requirement already satisfied: pygments in /usr/local/lib/python3.7/dist-packages (from IPython->lucem-illud==8.0.1) (2.6.1)\n",
            "Requirement already satisfied: pickleshare in /usr/local/lib/python3.7/dist-packages (from IPython->lucem-illud==8.0.1) (0.7.5)\n",
            "Requirement already satisfied: decorator in /usr/local/lib/python3.7/dist-packages (from IPython->lucem-illud==8.0.1) (4.4.2)\n",
            "Requirement already satisfied: traitlets>=4.2 in /usr/local/lib/python3.7/dist-packages (from IPython->lucem-illud==8.0.1) (5.1.1)\n",
            "Requirement already satisfied: wcwidth in /usr/local/lib/python3.7/dist-packages (from prompt-toolkit<2.0.0,>=1.0.4->IPython->lucem-illud==8.0.1) (0.2.5)\n",
            "Requirement already satisfied: cycler>=0.10 in /usr/local/lib/python3.7/dist-packages (from matplotlib->lucem-illud==8.0.1) (0.11.0)\n",
            "Requirement already satisfied: kiwisolver>=1.0.1 in /usr/local/lib/python3.7/dist-packages (from matplotlib->lucem-illud==8.0.1) (1.3.2)\n",
            "Requirement already satisfied: pyparsing!=2.0.4,!=2.1.2,!=2.1.6,>=2.0.1 in /usr/local/lib/python3.7/dist-packages (from matplotlib->lucem-illud==8.0.1) (3.0.7)\n",
            "Requirement already satisfied: pytz>=2017.3 in /usr/local/lib/python3.7/dist-packages (from pandas->lucem-illud==8.0.1) (2018.9)\n",
            "Requirement already satisfied: ptyprocess>=0.5 in /usr/local/lib/python3.7/dist-packages (from pexpect->IPython->lucem-illud==8.0.1) (0.7.0)\n",
            "Requirement already satisfied: traits in /usr/local/lib/python3.7/dist-packages (from pyanno3->lucem-illud==8.0.1) (6.3.2)\n",
            "Requirement already satisfied: cffi>=0.6 in /usr/local/lib/python3.7/dist-packages (from pysoundfile->lucem-illud==8.0.1) (1.15.0)\n",
            "Requirement already satisfied: pycparser in /usr/local/lib/python3.7/dist-packages (from cffi>=0.6->pysoundfile->lucem-illud==8.0.1) (2.21)\n",
            "Requirement already satisfied: lxml>=2.3.2 in /usr/local/lib/python3.7/dist-packages (from python-docx->lucem-illud==8.0.1) (4.2.6)\n",
            "Requirement already satisfied: idna<3,>=2.5 in /usr/local/lib/python3.7/dist-packages (from requests->lucem-illud==8.0.1) (2.10)\n",
            "Requirement already satisfied: certifi>=2017.4.17 in /usr/local/lib/python3.7/dist-packages (from requests->lucem-illud==8.0.1) (2021.10.8)\n",
            "Requirement already satisfied: chardet<4,>=3.0.2 in /usr/local/lib/python3.7/dist-packages (from requests->lucem-illud==8.0.1) (3.0.4)\n",
            "Requirement already satisfied: imageio>=2.3.0 in /usr/local/lib/python3.7/dist-packages (from scikit-image->lucem-illud==8.0.1) (2.4.1)\n",
            "Requirement already satisfied: tifffile>=2019.7.26 in /usr/local/lib/python3.7/dist-packages (from scikit-image->lucem-illud==8.0.1) (2021.11.2)\n",
            "Requirement already satisfied: PyWavelets>=1.1.1 in /usr/local/lib/python3.7/dist-packages (from scikit-image->lucem-illud==8.0.1) (1.2.0)\n",
            "Requirement already satisfied: threadpoolctl>=2.0.0 in /usr/local/lib/python3.7/dist-packages (from scikit-learn->lucem-illud==8.0.1) (3.1.0)\n",
            "Requirement already satisfied: joblib>=0.11 in /usr/local/lib/python3.7/dist-packages (from scikit-learn->lucem-illud==8.0.1) (1.1.0)\n",
            "Requirement already satisfied: cymem<2.1.0,>=2.0.2 in /usr/local/lib/python3.7/dist-packages (from spacy->lucem-illud==8.0.1) (2.0.6)\n",
            "Requirement already satisfied: blis<0.5.0,>=0.4.0 in /usr/local/lib/python3.7/dist-packages (from spacy->lucem-illud==8.0.1) (0.4.1)\n",
            "Requirement already satisfied: preshed<3.1.0,>=3.0.2 in /usr/local/lib/python3.7/dist-packages (from spacy->lucem-illud==8.0.1) (3.0.6)\n",
            "Requirement already satisfied: thinc==7.4.0 in /usr/local/lib/python3.7/dist-packages (from spacy->lucem-illud==8.0.1) (7.4.0)\n",
            "Requirement already satisfied: wasabi<1.1.0,>=0.4.0 in /usr/local/lib/python3.7/dist-packages (from spacy->lucem-illud==8.0.1) (0.9.0)\n",
            "Requirement already satisfied: catalogue<1.1.0,>=0.0.7 in /usr/local/lib/python3.7/dist-packages (from spacy->lucem-illud==8.0.1) (1.0.0)\n",
            "Requirement already satisfied: tqdm<5.0.0,>=4.38.0 in /usr/local/lib/python3.7/dist-packages (from spacy->lucem-illud==8.0.1) (4.62.3)\n",
            "Requirement already satisfied: srsly<1.1.0,>=1.0.2 in /usr/local/lib/python3.7/dist-packages (from spacy->lucem-illud==8.0.1) (1.0.5)\n",
            "Requirement already satisfied: murmurhash<1.1.0,>=0.28.0 in /usr/local/lib/python3.7/dist-packages (from spacy->lucem-illud==8.0.1) (1.0.6)\n",
            "Requirement already satisfied: plac<1.2.0,>=0.9.6 in /usr/local/lib/python3.7/dist-packages (from spacy->lucem-illud==8.0.1) (1.1.3)\n",
            "Requirement already satisfied: importlib-metadata>=0.20 in /usr/local/lib/python3.7/dist-packages (from catalogue<1.1.0,>=0.0.7->spacy->lucem-illud==8.0.1) (4.11.1)\n",
            "Requirement already satisfied: zipp>=0.5 in /usr/local/lib/python3.7/dist-packages (from importlib-metadata>=0.20->catalogue<1.1.0,>=0.0.7->spacy->lucem-illud==8.0.1) (3.7.0)\n"
          ]
        }
      ]
    },
    {
      "cell_type": "code",
      "execution_count": 102,
      "metadata": {
        "id": "leXBICCoTnBz"
      },
      "outputs": [],
      "source": [
        "#All these packages need to be installed from pip\n",
        "import gensim#For word2vec, etc\n",
        "import requests #For downloading our datasets\n",
        "import lucem_illud #pip install -U git+git://github.com/UChicago-Computational-Content-Analysis/lucem_illud.git\n",
        "\n",
        "import numpy as np #For arrays\n",
        "import pandas #Gives us DataFrames\n",
        "import matplotlib.pyplot as plt #For graphics\n",
        "import seaborn #Makes the graphics look nicer\n",
        "import sklearn.metrics.pairwise #For cosine similarity\n",
        "import sklearn.manifold #For T-SNE\n",
        "import sklearn.decomposition #For PCA\n",
        "import zipfile\n",
        "\n",
        "#This 'magic' command makes the plots work better\n",
        "#in the notebook, don't use it outside of a notebook.\n",
        "#Also you can ignore the warning\n",
        "%matplotlib inline\n",
        "\n",
        "import os #For looking through files\n",
        "import os.path #For managing file paths"
      ]
    },
    {
      "cell_type": "code",
      "source": [
        "from google.colab import drive\n",
        "drive.mount('/content/drive', force_remount=True)"
      ],
      "metadata": {
        "id": "oDWCCQwX5nVQ",
        "colab": {
          "base_uri": "https://localhost:8080/"
        },
        "outputId": "8f9d5eb3-fff3-4b74-eae0-26c906184273"
      },
      "execution_count": 103,
      "outputs": [
        {
          "output_type": "stream",
          "name": "stdout",
          "text": [
            "Mounted at /content/drive\n"
          ]
        }
      ]
    },
    {
      "cell_type": "markdown",
      "metadata": {
        "id": "LO3NQ-aPTnCK"
      },
      "source": [
        "## <font color=\"red\">*Exercise 1*</font>\n",
        "\n",
        "<font color=\"red\">Construct cells immediately below this that embed documents related to your final project using at least two different specification of `word2vec` and/or `fasttext`, and visualize them each with two separate visualization layout specifications (e.g., TSNE, PCA). Then interrogate critical word vectors within your corpus in terms of the most similar words, analogies, and other additions and subtractions that reveal the structure of similarity and difference within your semantic space. What does this pattern reveal about the semantic organization of words in your corpora? Which estimation and visualization specification generate the most insight and appear the most robustly supported and why? \n",
        "\n",
        "<font color=\"red\">***Stretch***: Explore different vector calculations beyond addition and subtraction, such as multiplication, division or some other function. What does this exploration reveal about the semantic structure of your corpus?"
      ]
    },
    {
      "cell_type": "code",
      "source": [
        "import pandas as pd\n",
        "import os\n",
        "subtitle = \"/content/drive/My Drive/subtitle/\" \n",
        "\n",
        "# read file line by line\n",
        "def load_corpus(url):\n",
        "  raw_data = []\n",
        "  index = []\n",
        "  for fi in os.listdir(subtitle):\n",
        "    index.append(fi)\n",
        "    txt = []\n",
        "    file = open(os.path.join(url, fi), \"r\",encoding=\"utf-8\", errors='ignore')\n",
        "    lines = file.readlines()\n",
        "    file.close()\n",
        "    for line in lines[24:]:\n",
        "      if not line.startswith('00') and line!='\\n':\n",
        "        word=line\n",
        "        if '\\n' in word:\n",
        "          word = word.replace('\\n', '')\n",
        "        if '<i>' in word:\n",
        "          word = word.replace('<i>','')\n",
        "        if '</i>' in word:\n",
        "          word = word.replace('</i>', '')\n",
        "        if '{\\\\an8}' in word:\n",
        "          word = word.replace('{\\\\an8}', '')\n",
        "        if not word.isdecimal():\n",
        "          if word.startswith('-'):\n",
        "            txt.append(word[1:])\n",
        "          else:\n",
        "            txt.append(word)\n",
        "    raw_data.append(' '.join(txt))\n",
        "  return raw_data, index\n",
        "\n",
        "raw_hw, index_hw = load_corpus(subtitle)\n",
        "raw_hw.pop(-1)\n",
        "index_hw.pop(-1)\n",
        "for i, title in enumerate(index_hw):\n",
        "  index_hw[i]='hw_'+title\n",
        "\n",
        "subtitle_kr = '/content/drive/My Drive/subtitle_kr/'\n",
        "raw_kr, index_kr = load_corpus(subtitle_kr)\n",
        "raw_kr.pop(-1)\n",
        "index_kr.pop(-1)\n",
        "for i, title in enumerate(index_kr):\n",
        "  index_kr[i]='kr_'+title\n",
        "\n",
        "index_hw.extend(index_kr)\n",
        "raw_hw.extend(raw_kr)\n",
        "\n",
        "season = []\n",
        "for i in index_hw:\n",
        "  if i.startswith('hw'):\n",
        "    season.append('Aloha State')\n",
        "  else:\n",
        "    season.append('Karuizawa')\n",
        "\n",
        "df = pd.DataFrame({'raw_data':raw_hw, 'category' : season}, index = index_hw)"
      ],
      "metadata": {
        "id": "7p65y06z8x8v"
      },
      "execution_count": 104,
      "outputs": []
    },
    {
      "cell_type": "code",
      "source": [
        "df['tokenized_sents'] = df['raw_data'].apply(lambda x: [lucem_illud.word_tokenize(s) for s in lucem_illud.sent_tokenize(x)])\n",
        "df['normalized_sents'] = df['tokenized_sents'].apply(lambda x:[lucem_illud.normalizeTokens(s) for s in x])"
      ],
      "metadata": {
        "id": "vjXR7q02QCVp"
      },
      "execution_count": 105,
      "outputs": []
    },
    {
      "cell_type": "code",
      "source": [
        "dfw2v = gensim.models.word2vec.Word2Vec(df['normalized_sents'].sum(), sg=0)\n",
        "numWords = 50\n",
        "dfw2v.save('df_release_w2v')"
      ],
      "metadata": {
        "id": "DuGDNHGYWZCb"
      },
      "execution_count": 106,
      "outputs": []
    },
    {
      "cell_type": "code",
      "source": [
        "target_words= dfw2v.wv.index2word[:numWords]"
      ],
      "metadata": {
        "id": "bv08Su2tX88S"
      },
      "execution_count": 107,
      "outputs": []
    },
    {
      "cell_type": "code",
      "source": [
        "submatrix = []\n",
        "for word in target_words:\n",
        "    submatrix.append(dfw2v[word])\n",
        "submatrix = np.array(submatrix)\n",
        "submatrix"
      ],
      "metadata": {
        "colab": {
          "base_uri": "https://localhost:8080/"
        },
        "id": "0OYJgKnZXCnD",
        "outputId": "bfa69ced-b1c9-4850-8e4f-42b0860a808f"
      },
      "execution_count": 108,
      "outputs": [
        {
          "output_type": "execute_result",
          "data": {
            "text/plain": [
              "array([[-0.4705522 , -0.02066885,  0.30309054, ..., -0.34051427,\n",
              "         0.1433256 , -0.3357396 ],\n",
              "       [-0.58711916, -0.18876646,  0.5027469 , ..., -0.2660454 ,\n",
              "         0.26615244, -0.31198817],\n",
              "       [-0.5420906 , -0.03017437,  0.3231581 , ..., -0.41229716,\n",
              "         0.14317787, -0.4021273 ],\n",
              "       ...,\n",
              "       [-0.3298587 , -0.01862266,  0.20522512, ..., -0.24785112,\n",
              "         0.10107452, -0.23250784],\n",
              "       [-0.5599972 , -0.04210589,  0.3545621 , ..., -0.38439238,\n",
              "         0.17993759, -0.38896722],\n",
              "       [-0.44043618, -0.01277385,  0.26708812, ..., -0.32565778,\n",
              "         0.13879955, -0.2969755 ]], dtype=float32)"
            ]
          },
          "metadata": {},
          "execution_count": 108
        }
      ]
    },
    {
      "cell_type": "code",
      "source": [
        "pca = sklearn.decomposition.PCA(n_components = 50).fit(submatrix)\n",
        "reduced_pca = pca.transform(submatrix)\n",
        "tsne = sklearn.manifold.TSNE(n_components=2).fit_transform(reduced_pca)"
      ],
      "metadata": {
        "id": "SYJHX20JYi0-"
      },
      "execution_count": 109,
      "outputs": []
    },
    {
      "cell_type": "code",
      "source": [
        "fig = plt.figure(figsize = (10,6))\n",
        "ax = fig.add_subplot(111)\n",
        "ax.set_frame_on(False)\n",
        "plt.scatter(tsne[:, 0], tsne[:, 1], alpha = 0)#Making the points invisible \n",
        "for i, word in enumerate(target_words):\n",
        "    ax.annotate(word, (tsne[:, 0][i],tsne[:, 1][i]), size =  20 * (numWords - i) / numWords)\n",
        "plt.xticks(())\n",
        "plt.yticks(())\n",
        "plt.show()"
      ],
      "metadata": {
        "colab": {
          "base_uri": "https://localhost:8080/",
          "height": 356
        },
        "id": "HzltPHMeZG_R",
        "outputId": "9013ada0-50f5-41f1-da1f-9e8bfa4c0ffe"
      },
      "execution_count": 110,
      "outputs": [
        {
          "output_type": "display_data",
          "data": {
            "image/png": "[encoded data removed]",
            "text/plain": [
              "<Figure size 720x432 with 1 Axes>"
            ]
          },
          "metadata": {}
        }
      ]
    },
    {
      "cell_type": "code",
      "source": [
        "fig = plt.figure(figsize = (10,6))\n",
        "ax = fig.add_subplot(111)\n",
        "ax.set_frame_on(False)\n",
        "plt.scatter(reduced_pca[:, 0], reduced_pca[:, 1], alpha = 0)#Making the points invisible \n",
        "for i, word in enumerate(target_words):\n",
        "    ax.annotate(word, (reduced_pca[:, 0][i],reduced_pca[:, 1][i]), size =  20 * (numWords - i) / numWords)\n",
        "plt.xticks(())\n",
        "plt.yticks(())\n",
        "plt.show()"
      ],
      "metadata": {
        "colab": {
          "base_uri": "https://localhost:8080/",
          "height": 356
        },
        "id": "kvsXo2EHHSSW",
        "outputId": "2da44a11-9150-46c0-9c36-cbc9fa2d54ef"
      },
      "execution_count": 111,
      "outputs": [
        {
          "output_type": "display_data",
          "data": {
            "image/png": "[encoded data removed]",
            "text/plain": [
              "<Figure size 720x432 with 1 Axes>"
            ]
          },
          "metadata": {}
        }
      ]
    },
    {
      "cell_type": "code",
      "source": [
        "import gensim"
      ],
      "metadata": {
        "id": "iId2ETGQZg8R"
      },
      "execution_count": 112,
      "outputs": []
    },
    {
      "cell_type": "code",
      "source": [
        "#see simlar words with people in the show\n",
        "people_hw = ['lauren', 'yuya', 'yusuke','avian', 'naomi', 'eric', 'anna','taishi', 'niki','guy', 'cheri', 'wesley', 'jennifer','chikako','mariko','ryo']\n",
        "people_kr = ['ami','yuudai','mizuki','taka', 'tsuchan','shion','shohei','seina','mayu', 'yui','noah','aya','shunsuke','kaito','maya','sota']\n",
        "print('for the casts in aloha state season')\n",
        "for person in people_hw:\n",
        "  mm = dfw2v.wv.similar_by_word(person, topn = 10)\n",
        "  print('the most similar words to ', person, ' is: ')\n",
        "  for m in mm:\n",
        "    print(m[0])\n",
        "  print('-----------------------------------')\n",
        "\n",
        "print('for the casts in Karuizawa season')\n",
        "for person in people_kr:\n",
        "  mm = dfw2v.wv.similar_by_word(person, topn = 10)\n",
        "  print('the most similar words to ', person, ' is: ')\n",
        "  for m in mm:\n",
        "    print(m[0])\n",
        "  print('-----------------------------------')\n",
        "\n"
      ],
      "metadata": {
        "colab": {
          "base_uri": "https://localhost:8080/"
        },
        "id": "Me2suNmmZhBg",
        "outputId": "539b2017-500c-4f46-84cc-1e141f2a8c9a"
      },
      "execution_count": 113,
      "outputs": [
        {
          "output_type": "stream",
          "name": "stdout",
          "text": [
            "for the casts in aloha state season\n",
            "the most similar words to  lauren  is: \n",
            "naomi\n",
            "yusuke\n",
            "ishikura\n",
            "young\n",
            "chikako\n",
            "ryo\n",
            "model\n",
            "mila\n",
            "guy\n",
            "spa\n",
            "-----------------------------------\n",
            "the most similar words to  yuya  is: \n",
            "anna\n",
            "de\n",
            "cheri\n",
            "spa\n",
            "nakajima\n",
            "eric\n",
            "real\n",
            "lauren\n",
            "ishikura\n",
            "model\n",
            "-----------------------------------\n",
            "the most similar words to  yusuke  is: \n",
            "chikako\n",
            "lauren\n",
            "naomi\n",
            "young\n",
            "ryo\n",
            "sekikawa\n",
            "pilot\n",
            "musician\n",
            "ishikura\n",
            "shy\n",
            "-----------------------------------\n",
            "the most similar words to  avian  is: \n",
            "aspire\n",
            "shibusawa\n",
            "carpenter\n",
            "pro\n",
            "fukuyama\n",
            "wesley\n",
            "3rd\n",
            "lorraine\n",
            "tamaki\n",
            "student\n",
            "-----------------------------------\n",
            "the most similar words to  naomi  is: \n",
            "lauren\n",
            "yusuke\n",
            "ishikura\n",
            "model\n",
            "musician\n",
            "chikako\n",
            "young\n",
            "ryo\n",
            "pilot\n",
            "matarai\n",
            "-----------------------------------\n",
            "the most similar words to  eric  is: \n",
            "fashion\n",
            "nakajima\n",
            "cheri\n",
            "de\n",
            "real\n",
            "anna\n",
            "spa\n",
            "tanaka\n",
            "agent\n",
            "aizawa\n",
            "-----------------------------------\n",
            "the most similar words to  anna  is: \n",
            "cheri\n",
            "de\n",
            "real\n",
            "nakajima\n",
            "eric\n",
            "spa\n",
            "yuya\n",
            "lauren\n",
            "fashion\n",
            "taishi\n",
            "-----------------------------------\n",
            "the most similar words to  taishi  is: \n",
            "anna\n",
            "lauren\n",
            "nakamura\n",
            "ryo\n",
            "yusuke\n",
            "ishikura\n",
            "arai\n",
            "young\n",
            "model\n",
            "chikako\n",
            "-----------------------------------\n",
            "the most similar words to  niki  is: \n",
            "aya\n",
            "woman\n",
            "wish\n",
            "yui\n",
            "graduate\n",
            "mariko\n",
            "chef\n",
            "boyfriend\n",
            "prefer\n",
            "yuudai\n",
            "-----------------------------------\n",
            "the most similar words to  guy  is: \n",
            "lauren\n",
            "yusuke\n",
            "naomi\n",
            "pilot\n",
            "young\n",
            "chikako\n",
            "noah\n",
            "ami\n",
            "wish\n",
            "ryo\n",
            "-----------------------------------\n",
            "the most similar words to  cheri  is: \n",
            "real\n",
            "de\n",
            "fashion\n",
            "agent\n",
            "anna\n",
            "nakajima\n",
            "eric\n",
            "spa\n",
            "lorraine\n",
            "estate\n",
            "-----------------------------------\n",
            "the most similar words to  wesley  is: \n",
            "fukuyama\n",
            "agent\n",
            "frank\n",
            "estate\n",
            "fashion\n",
            "lorraine\n",
            "pro\n",
            "tamaki\n",
            "aizawa\n",
            "3rd\n",
            "-----------------------------------\n",
            "the most similar words to  jennifer  is: \n",
            "student\n",
            "haneishi\n",
            "aspire\n",
            "carpenter\n",
            "mendonca\n",
            "tamaki\n",
            "timer\n",
            "hasegawa\n",
            "actor\n",
            "university\n",
            "-----------------------------------\n",
            "the most similar words to  chikako  is: \n",
            "yusuke\n",
            "ryo\n",
            "pilot\n",
            "young\n",
            "brother\n",
            "lady\n",
            "musician\n",
            "shy\n",
            "sekikawa\n",
            "lauren\n",
            "-----------------------------------\n",
            "the most similar words to  mariko  is: \n",
            "mizuki\n",
            "prefer\n",
            "japanese\n",
            "chef\n",
            "woman\n",
            "yuudai\n",
            "mention\n",
            "graduate\n",
            "course\n",
            "shunsuke\n",
            "-----------------------------------\n",
            "the most similar words to  ryo  is: \n",
            "chikako\n",
            "yusuke\n",
            "young\n",
            "brother\n",
            "shy\n",
            "pilot\n",
            "musician\n",
            "lady\n",
            "sekikawa\n",
            "nakamura\n",
            "-----------------------------------\n",
            "for the casts in Karuizawa season\n",
            "the most similar words to  ami  is: \n",
            "artist\n",
            "brother\n",
            "noah\n",
            "yui\n",
            "pilot\n",
            "ryo\n",
            "tsubasa\n",
            "yuudai\n",
            "young\n",
            "yusuke\n",
            "-----------------------------------\n",
            "the most similar words to  yuudai  is: \n",
            "chef\n",
            "woman\n",
            "mariko\n",
            "mizuki\n",
            "erotic\n",
            "act\n",
            "graduate\n",
            "yui\n",
            "speak\n",
            "japanese\n",
            "-----------------------------------\n",
            "the most similar words to  mizuki  is: \n",
            "invite\n",
            "age\n",
            "realize\n",
            "understand\n",
            "course\n",
            "mention\n",
            "popular\n",
            "restaurant\n",
            "stop\n",
            "level\n",
            "-----------------------------------\n",
            "the most similar words to  taka  is: \n",
            "probably\n",
            "pretty\n",
            "help\n",
            "actually\n",
            "suppose\n",
            "yes\n",
            "understand\n",
            "draw\n",
            "stop\n",
            "rice\n",
            "-----------------------------------\n",
            "the most similar words to  tsuchan  is: \n",
            "away\n",
            "small\n",
            "definitely\n",
            "honest\n",
            "hurt\n",
            "pick\n",
            "spot\n",
            "party\n",
            "forget\n",
            "banana\n",
            "-----------------------------------\n",
            "the most similar words to  shion  is: \n",
            "mizuki\n",
            "stop\n",
            "understand\n",
            "hockey\n",
            "mayu\n",
            "mariko\n",
            "invite\n",
            "cream\n",
            "course\n",
            "speak\n",
            "-----------------------------------\n",
            "the most similar words to  shohei  is: \n",
            "uemura\n",
            "mayu\n",
            "keep\n",
            "guess\n",
            "koseta\n",
            "oh\n",
            "invite\n",
            "shimabukuro\n",
            "depend\n",
            "restaurant\n",
            "-----------------------------------\n",
            "the most similar words to  seina  is: \n",
            "shimabukuro\n",
            "yui\n",
            "woman\n",
            "shohei\n",
            "uemura\n",
            "player\n",
            "noah\n",
            "tsubasa\n",
            "act\n",
            "cute\n",
            "-----------------------------------\n",
            "the most similar words to  mayu  is: \n",
            "keep\n",
            "invite\n",
            "lunch\n",
            "age\n",
            "guess\n",
            "word\n",
            "usually\n",
            "sexy\n",
            "mind\n",
            "bring\n",
            "-----------------------------------\n",
            "the most similar words to  yui  is: \n",
            "woman\n",
            "chef\n",
            "artist\n",
            "aya\n",
            "yuudai\n",
            "niki\n",
            "pilot\n",
            "brother\n",
            "act\n",
            "cute\n",
            "-----------------------------------\n",
            "the most similar words to  noah  is: \n",
            "yui\n",
            "seina\n",
            "ami\n",
            "artist\n",
            "cute\n",
            "type\n",
            "player\n",
            "act\n",
            "shimabukuro\n",
            "woman\n",
            "-----------------------------------\n",
            "the most similar words to  aya  is: \n",
            "niki\n",
            "pilot\n",
            "wish\n",
            "woman\n",
            "chef\n",
            "yui\n",
            "college\n",
            "lady\n",
            "artist\n",
            "shunsuke\n",
            "-----------------------------------\n",
            "the most similar words to  shunsuke  is: \n",
            "woman\n",
            "conversation\n",
            "realize\n",
            "mizuki\n",
            "popular\n",
            "mariko\n",
            "chef\n",
            "graduate\n",
            "japanese\n",
            "swimsuit\n",
            "-----------------------------------\n",
            "the most similar words to  kaito  is: \n",
            "realize\n",
            "graduate\n",
            "chicken\n",
            "high\n",
            "prefer\n",
            "line\n",
            "mature\n",
            "notice\n",
            "restaurant\n",
            "mizuki\n",
            "-----------------------------------\n",
            "the most similar words to  maya  is: \n",
            "graduate\n",
            "boyfriend\n",
            "aya\n",
            "prefer\n",
            "kaito\n",
            "shunsuke\n",
            "high\n",
            "hair\n",
            "erotic\n",
            "mature\n",
            "-----------------------------------\n",
            "the most similar words to  sota  is: \n",
            "mizuki\n",
            "mature\n",
            "prefer\n",
            "mariko\n",
            "japanese\n",
            "course\n",
            "graduate\n",
            "woman\n",
            "shunsuke\n",
            "touch\n",
            "-----------------------------------\n"
          ]
        }
      ]
    },
    {
      "cell_type": "code",
      "source": [
        "#a couple that did not work out\n",
        "mm = dfw2v.wv.most_similar(positive = ['lauren', 'yusuke'], negative=['artist', 'musician'])\n",
        "for m in mm:\n",
        "  print(m[0],m[1])\n"
      ],
      "metadata": {
        "colab": {
          "base_uri": "https://localhost:8080/"
        },
        "id": "6vvJOhw5iGw6",
        "outputId": "0bc2942c-5990-4e4d-a048-0e52a11d9947"
      },
      "execution_count": 114,
      "outputs": [
        {
          "output_type": "stream",
          "name": "stdout",
          "text": [
            "old 0.3084331154823303\n",
            "year 0.2899929881095886\n",
            "salesclerk 0.2247033417224884\n",
            "ku 0.1958702802658081\n",
            "lavoie 0.16981516778469086\n",
            "tsai 0.16071242094039917\n",
            "actor 0.12891243398189545\n",
            "undecided 0.12464655935764313\n",
            "niwa 0.1242174431681633\n",
            "timer 0.12177018821239471\n"
          ]
        }
      ]
    },
    {
      "cell_type": "code",
      "source": [
        "#a couple that has resulted in marriage\n",
        "mm = dfw2v.wv.most_similar(positive = ['seina', 'noah'], negative = ['girlfriend'])\n",
        "for m in mm:\n",
        "  print(m[0],m[1])"
      ],
      "metadata": {
        "colab": {
          "base_uri": "https://localhost:8080/"
        },
        "id": "p3Sxsb8Cvgtj",
        "outputId": "13e9895c-d8b8-4ef7-c7f2-f933587ffc37"
      },
      "execution_count": 115,
      "outputs": [
        {
          "output_type": "stream",
          "name": "stdout",
          "text": [
            "ami 0.9980157613754272\n",
            "guy 0.9977149963378906\n",
            "shimabukuro 0.9973882436752319\n",
            "yui 0.9973444938659668\n",
            "type 0.9972044825553894\n",
            "model 0.9970750212669373\n",
            "tsubasa 0.9970149397850037\n",
            "player 0.9969860315322876\n",
            "artist 0.9969828128814697\n",
            "naomi 0.9969285726547241\n"
          ]
        }
      ]
    },
    {
      "cell_type": "markdown",
      "metadata": {
        "id": "qbAoOaZKTnCV"
      },
      "source": [
        "## <font color=\"red\">*Exercise 2*</font>\n",
        "\n",
        "<font color=\"red\">Construct cells immediately below this that embed documents related to your final project using `doc2vec`, and explore the relationship between different documents and the word vectors you analyzed in the last exercise. Consider the most similar words to critical documents, analogies (doc _x_ + word _y_), and other additions and subtractions that reveal the structure of similarity and difference within your semantic space. What does this pattern reveal about the documentary organization of your semantic space?"
      ]
    },
    {
      "cell_type": "code",
      "source": [
        "df['tokenized_words'] = df['raw_data'].apply(lambda x: lucem_illud.word_tokenize(x))\n",
        "df['normalized_words'] = df['tokenized_words'].apply(lambda x: lucem_illud.normalizeTokens(x, lemma = False))"
      ],
      "metadata": {
        "id": "CehnUBaRLdwZ"
      },
      "execution_count": 116,
      "outputs": []
    },
    {
      "cell_type": "code",
      "source": [
        "def flatten_list(_2d_list):\n",
        "    flat_list = []\n",
        "    # Iterate through the outer list\n",
        "    for element in _2d_list:\n",
        "        if type(element) is list:\n",
        "            # If the element is of type list, iterate through the sublist\n",
        "            for item in element:\n",
        "                flat_list.append(item)\n",
        "        else:\n",
        "            flat_list.append(element)\n",
        "    return flat_list\n"
      ],
      "metadata": {
        "id": "hR0TR-NntsPD"
      },
      "execution_count": 117,
      "outputs": []
    },
    {
      "cell_type": "code",
      "source": [
        "from numpy.ma.core import shape\n",
        "df['name'] = index_hw\n",
        "df['episode'] = df['name'].apply(lambda x: int(x[10:]))\n",
        "tag_doc = []\n",
        "casts = people_hw.extend(people_kr)\n",
        "for index, row in df.iterrows():\n",
        "  doc_key = list(set([i for i in people_hw if i in row['normalized_words']]))\n",
        "  doc_key.append(row['episode'])\n",
        "  doc_key.append(row['name'])\n",
        "  doc_key = flatten_list(doc_key)\n",
        "  tag_doc.append(gensim.models.doc2vec.LabeledSentence(words = row['normalized_words'], tags = doc_key))\n",
        "\n",
        "df['tagged_texts'] = tag_doc"
      ],
      "metadata": {
        "id": "qmxEJu3ZMTJ_"
      },
      "execution_count": 118,
      "outputs": []
    },
    {
      "cell_type": "code",
      "source": [
        "tag_doc[0]"
      ],
      "metadata": {
        "colab": {
          "base_uri": "https://localhost:8080/"
        },
        "id": "c_0yqhodUrBC",
        "outputId": "1d9788e5-2412-4204-a01d-5bf140306c5b"
      },
      "execution_count": 119,
      "outputs": [
        {
          "output_type": "execute_result",
          "data": {
            "text/plain": [
              "LabeledSentence(words=['tonight', 'start', 'new', 'season', 'hawaii', 'terrace', 'house', 'aloha', 'state', 'hawaii', 'fun', 'fun', 'went', 'fun', 'work', 'trip', 'fun', 'confidence', 'fun', 'hawaii', 'hawaii', 'nice', 'day', 'yamachan', 'right', 'got', 'lost', 'ala', 'moana', 'center', 'like', 'break', 'seriously', 'hiccup', 'yu', 'told', 'definitely', 'eligible', 'bachelor', 'number', 'bachelor', 'right', 'yes', 'number', 'right', 'tokui', 'sweet', 'day', 'find', 'best', 'burger', 'place', 'yes', 'thank', 'easy', 'internet', 'yes', 'difference', 'astounding', 'torichan', 'hawaii', 'realized', 'different', 'men', 'got', 'trouble', 'customs', 'right', 'time', 'got', 'lost', 'got', 'plastered', 'yes', 'check', 'opened', 'luggage', 'lobby', 'opened', 'luggage', 'lobby', 'thinking', 'room', 'check', 'talking', 'm', 'sorry', 'yu', 'went', 'desk', 'said', 'guy', 'checked', 'late', 'said', 'checking', '3:00', 'a.m.', 'fun', 'happy', 'fun', 'terrace', 'house', 'currently', 'available', 'countries', 'way', 'gaining', 'popularity', 'season', 'abroad', 'episodes', 'ordered', 'hope', 'continues', 'yes', 'hawaii', 'clear', 'sky', 'provoke', 'drama', 'unlikely', 'yeah', 'unlikely', 'let', 'candid', 'resolve', 'issues', 'rationally', 'quickly', 'hawaii', 'm', 'looking', 'forward', 'let', 'watch', 'hello', 'hello', 'nice', 'meet', 'nice', 'meet', 'm', 'yuya', 'shibusawa', 'm', 'years', 'old', 'm', 'lauren', 'tsai', 'nice', 'meet', 'm', 'yes', 'yes', 'nice', 'huh', 'lauren', 'yes', 'lauren', 'lauren', 'tsai', 'tsai', 'yes', 'born', 'massachusetts', 'moved', 'hawaii', 've', 'years', 'pretty', 'pale', 'tan', 'tells', 'pale', 'yeah', 'stay', 'lot', 'outside', 'like', 'sun', 'born', 'born', 'raised', 'japan', 'japan', 'yokosuka', 'area', 'know', 'sorry', 'dad', 'american', 'oh', 'okay', 'half', 'yes', 'half', 'yeah', 'graduated', 'high', 'school', 'want', 'acting', 'school', 'ah', 'actor', 'yes', 'm', 'trying', 'learn', 'english', 'know', 'time', 'yeah', 'learn', 'teach', 'english', 'teach', 'japanese', 'oh', 'okay', 'teach', 'wow', 'pool', 'says', 'terrace', 'house', 'pool', 'oh', 'wow', 'want', 'pool', 'amazing', 'like', 'hotel', 'definitely', 'hotel', 'pretty', 'luxurious', 'hi', 'hi', 'hi', 'nice', 'meet', 'nice', 'meet', 'm', 'avian', 'nice', 'meet', 'nice', 'meet', 'm', 'lauren', 'tsai', 'lauren', 'yes', 'lauren', 'm', 'shibusawa', 'shibusawa', 'm', 'avian', 'half', 'japanese', 'born', 'oh', 'born', 'yes', 'born', 'raised', 've', 'middle', 'school', 'high', 'school', 'big', 'island', 'lived', 'japan', 'years', 'elementary', 'school', 'right', 'work', 'tees', 't', 'shirt', 'company', 'waikiki', 'know', 'mom', 'shop', 'help', 'work', 'shop', 'employee', 'things', 'like', 'things', 'web', 'stuff', 'old', 'm', '-i', 'mean', 'birthday', 'seen', 'pool', 'oh', 'saw', 'pool', 'want', 'yeah', 'let', 'oh', 'kitchen', 'wow', 'beautiful', 'love', 'white', 'white', 'fully', 'equipped', 'feels', 'comfortable', 'live', 'nice', 'looks', 'relaxing', 'right', 'pool', 'beautiful', 'hi', 'hello', 'hello', 'hi', 'm', 'eric', 'nice', 'meet', 'nice', 'meet', 'sit', 'right', 'nice', 'meet', 'nice', 'meet', 'hawaii', 'm', 'nishinomiya', 'hyogo', 'prefecture', 'kansai', 'speak', 'english', 'japanese', 'better', 'oh', 'nice', 'work', 'yes', 'build', 'furniture', 'craftsman', 'guess', 'kind', 'work', 'm', 'starting', 'café', 'friend', 'yes', 'café', 've', 'decided', 'location', 've', 'started', 've', 'started', 'yes', 'interior', 'm', 'model', 'illustrator', 'm', 'professional', 'dream', 'day', 'like', 'work', 'company', 'makes', 'animated', 'films', 'video', 'games', 'm', 'modeling', 'nice', 'enjoy', 'modeling', 'hello', 'hello', 'nice', 'meet', 'nice', 'meet', 'expanding', 'slowly', 'nice', 'meet', 'nice', 'meet', 'm', 'naomi', 'lorraine', 'frank', 'nice', 'meet', 'nice', 'meet', 'background', 'way', 'm', 'half', 'american', 'half', 'japanese', 'japan', 'born', 'america', 've', 'lived', 'japan', 'm', 'totally', 'japanese', 'came', 'japan', 'yes', 'came', 'japan', 'landed', 'today', 'immediately', 'came', 'today', 'yes', 'airport', 'wow', 'pretty', 'came', 'right', 'entirely', 'japanese', 'half', 'japanese', 'm', 'half', 'chinese', 'half', 'european', 'm', 'japanese', 'asian', 'speak', 'japanese', 'studied', 'abroad', 'japan', 'hiroshima', 'hiroshima', 'weeks', 'want', 'japan', 'studied', 'japanese', 'pretty', 'learned', 'watch', 'shows', 'like', 'terrace', 'house', 'read', 'subtitles', 'helps', 'lot', 'helps', 'best', 'way', 'learn', 'languages', 'yes', 'lived', 'japanese', 'mom', 'spoke', 'japanese', 'stopped', 'english', 'little', 'oh', 'wow', 'musician', 'heavy', 'hello', 'hello', 'm', 'yusuke', 'aizawa', 'nice', 'meet', 'nice', 'meet', 'm', 'eric', 'excuse', 'musician', 'yes', 'm', 'music', 've', 'got', 'ukulele', 'ukulele', 'right', 'yes', 'ukulele', 'guitar', 'hawaii', 'currently', 'live', 'hawaii', 'm', 'originally', 'tokyo', 'relocate', 'hawaii', 'years', 'ago', 'long', 'japan', 'playing', 'music', 'japan', 'apart', 'student', 'm', 'currently', 'student', 'yes', 'turned', 'day', 'yesterday', 'oh', 'm', 'oh', 'young', 'apologize', 'm', 'm', 'm', 'means', 'graduating', 'september', 'oh', 'right', 'graduate', 'going', 'pursue', 'music', 'career', 'like', 'continue', 'music', 'like', 'level', 'artist', 'perform', 'hawaii', 'm', 'asked', 'plans', 'right', 'right', 'going', 'award', 'ceremony', 'hawaiian', 'music', 'awards', 'japan', 'sudden', 'gone', 'days', 'starting', '29th', 'sad', 'soon', 'released', 'album', 'year', 'album', 'finals', 'online', 'vote', 'recently', 'closed', 'waiting', 'results', 'ceremony', 'actually', 'ginza', 'wow', 'sounds', 'wow', 'amazing', 'amazing', 'group', 'like', 'fun', 'everybody', 'different', 'definitely', 'gon', 'na', 'fun', 'shall', 'let', 'amazing', 'jump', 'beautiful', 'jump', 'crazy', 'places', 'sit', 'surf', 'area', 'yeah', 'surf', 'sat', 'played', 'ukulele', 'perfect', 'light', 'candles', 'play', 'cool', 'wow', 'lucky', 'view', 'day', 'lauren', 'tsai', 'years', 'old', 'aspiring', 'illustrator', 'model', 'yuya', 'shibusawa', 'years', 'old', 'aspiring', 'actor', 'avian', 'ku', 'years', 'old', 'salesclerk', 'eric', 'de', 'mendonca', 'years', 'old', 'carpenter', 'naomi', 'lorraine', 'frank', 'years', 'old', 'undecided', 'yusuke', 'aizawa', 'years', 'old', 'musician', 'ukulele', 'player', 'terrace', 'house', 'aloha', 'state', 'want', 'like', 'teatime', 'insane', 'oh', 'god', 'insane', 'wow', 'stylish', 'insane', 'wow', 'pool', 'hammock', 'totally', 'want', 'nap', 'yeah', 'cushioned', 'wow', 'amazing', 'perfect', 'insane', 'wow', 'cold', 'warm', 'amazing', 've', 'lived', 'house', 'pool', 'super', 'fancy', 'room', 'crazy', 'cute', 'wow', 'cute', 'like', 'dream', 'like', 'kid', 'dream', 'wait', 'bed', 'want', 'wow', 'feels', 'nice', 'view', 'super', 'nice', 'bed', 'want', 'rock', 'paper', 'scissors', 'rock', 'paper', 'scissors', 'oh', 'okay', 'yeah', 'want', 'okay', 'm', 'opposite', 'okay', 'wow', 'bathroom', 'crazy', 'walk', 'closet', 'wow', 'ocean', 'oh', 'yeah', 'like', 'hotel', 'amazing', 'spa', 'bath', 'fit', 'let', 'try', 'totally', 'fit', 'little', 'tight', 'okay', 'm', 'small', 'insane', 'amazing', 'amazing', 'connected', 'pool', 'wow', 'm', 'good', 'sleeping', 'guys', 'decide', 'mind', 'guys', 'immediately', 'chose', 'okay', 'm', 'good', 'practice', 'guitar', 'bother', 'guys', 'play', 'noise', 'bothers', 'people', 'think', 'lullaby', 'sleep', 'able', 'sleep', 'happy', 'girls', 'compared', 'girls', 'japan', 'assertive', 'nice', 'true', 'better', 'pushy', 'getting', 'turned', 'want', 'come', 'strongly', 'respond', 'strongly', 'feel', 'like', 'works', 'better', 've', 'single', 'years', 'years', 'yeah', 'years', 'years', 've', 'critical', 'yeah', 'chance', 'love', 'bad', 'need', 'start', 'proactive', 'playroom', 'playroom', 'wow', 'place', 'hangout', 'wow', 'looks', 'comfortable', 'seriously', 'amazing', 'stylish', 'great', 'knock', 'knock', 'yes', 'excuse', 'excuse', 'wondering', 'guys', 'room', 'like', 'guys', 'wait', 'playroom', 'oh', 'okay', 'thought', 'guys', 'room', 'little', 'tight', 'room', 'different', 'room', 'pretty', 'amazing', 'seriously', 'perfect', 'insane', 'chose', 'beds', 'guys', 'room', 'pretty', 'nice', 'want', 'let', 'later', 'want', 'want', 'supermarket', 'want', 'food', 'market', 'let', 'okay', 'need', 'buy', 'shampoo', 'food', 'maybe', 'beer', 'participate', 'drink', 'juice', 'watching', 'nice', 'house', 'everybody', 'revealed', 'spaciousness', 'hammock', 'feel', 'like', 'things', 'happen', 'maybe', 'want', 'stars', 'want', 'hammock', 'place', 'bedrooms', 'square', 'feet', 'huge', 'huge', 'half', 'baths', 'aizawa', 'got', 'hammock', 'cause', 'problem', 'years', 'old', 'girlfriend', 'mature', 'classy', 'yes', 'classy', 'like', 'apprentice', 'fancy', 'restaurant', 'kyubey', 'true', 'apprentice', 'saying', 'yes', 'sir', 'tune', 'ukulele', 'changes', 'know', 'happened', 'ukulele', 'mean', 'ukulele', 'right', 'yes', 'yes', 'mean', 'ukulele', 'mean', 'like', 'baseball', 'bat', 'mean', 'like', 'worst', 'euphemism', 'meant', 'sound', 'quality', 'changes', 'plays', 'changed', 'aizawa', 'lauren', 'dream', 'true', 'think', 'possible', 'way', 'possible', 'right', 'car', 'keys', 'names', 'oh', 'got', 'try', 'avian', 'thank', 'wow', 'cute', 'shopping', 'time', 'm', 'hungry', 'm', 'hungry', 'pick', 'stuff', 'eat', 'cooking', 'today', 'cook', 'time', 'yeah', 'ready', 'food', 'pick', 'stuff', 'today', 'feels', 'american', 'let', 'good', 'let', 'know', 'tired', 'good', 'work', 'let', 'let', 'let', 'let', 'let', 'steaks', 'big', 'let', 'eat', 'shall', 'eat', 'time', 'eat', 'time', 'eat', 'let', 'toast', 'cheers', 'cheers', 'cheers', 'thanks', 'great', 'day', 'thank', 'tomorrow', 'work', 'work', 've', 'got', 'school', 'surprisingly', 'busy', 'yeah', 'm', 'student', 'free', 'free', 'm', 'free', 'yeah', 'let', 'yeah', 'guys', 'day', 'usually', 'ala', 'moana', 'waikiki', 'shopping', 'favorite', 'thing', 'lounge', 'home', 'understand', 'totally', 'understand', 'japanese', 'american', 'men', 'easier', 'like', 'better', 'depends', 'person', 'think', 'nationality', 'matters', 'prefer', 'grew', 'japan', 'america', 'depends', 'person', 'different', 'true', 'think', 'matters', 'gone', 'american', 'lived', 'japan', 've', 'dated', 'japanese', 'men', 'popular', 'japan', 'time', 'like', 'experienced', 'amazing', 'yes', 'mentioned', 've', 've', 'girlfriend', 've', 'liked', 'girl', 'work', 'way', 'wanted', 'want', 'girlfriend', 'yes', 'possible', 'possible', 'yes', 'nice', 'confident', 'man', 'type', 'type', 'cheerful', 'shy', 'uncomfortable', 'talking', 'people', 'know', 'm', 'attracted', 'women', 'lead', 'little', 'works', 'nice', 'body', 'manly', 'sweet', 'lot', 'list', 'keeps', 'getting', 'longer', 'clean', 'like', 'people', 'creative', 'prefer', 'calm', 'mature', 'respect', 'like', 'goals', 'lead', 'grasp', 'little', 'dangerous', 'time', 'school', 'start', 'tomorrow', '8:00', 'a.m.', '8:00', 'a.m.', 'time', 'usually', 'leave', 'house', 'usually', 'leave', 'hey', 'brought', 'dessert', 'dessert', 'apples', 'thank', 'coming', 'comes', 'late', 'night', 'dessert', 'let', 'eat', 'want', 'sit', 'reach', 'right', 'let', 'eat', 'pajamas', 'cute', 'thank', 'play', 'right', 'play', 'play', 'relaxing', 'yeah', 'right', 'okay', 'moments', 'sure', 'waiting', 'getting', 'getting', 'zone', 'comes', 'song', 'called', 'dearly', 'dearly', 'original', 'nice', 'amazing', 'wow', 'amazing', 'cool', 'wow', 'amazing', 'cool', 'got', 'goose', 'bumps', 'way', 'better', 'expected', 'amazing', 'yusuke', 'play', 'ukulele', 'seriously', 'suddenly', 'getting', 'tonight', 'popular', 'ladies', 'right', 'definitely', 'shot', 'yeah', 'good', 'nice', 'ask', 'like', 'need', 'good', 'yeah', 'totally', 'cool', 'cool', 'play', 'level', 'asked', 'excuse', 'instrument', 'shrunk', 'amazing', 'excuse', 'wow', 'amazing', 'listen', 'forever', 'super', 'amazing', 'glides', 'glides', 'quick', 'good', 'wish', 'yusuke', 'sneak', 'girls', 'room', 'night', 'want', 'yusuke', 'like', 'heard', 'ukulele', 'right', 'heard', 'ukulele', 'right', 'prefer', 'ukulele', 'hold', 'neck', 'stupid', 'look', 'believe', 'unbelievable', 'm', 'sorry', 'torichan', 'believe', 'trust', 've', 'built', 'hawaii', 'crumbled', 'believe', 'points', 'earned', 'hawaii', 'girls', 'saying', 'popular', 'ladies', 'saying', 'hot', 'attractive', 'play', 'instrument', 'flirt', 'plays', 'instrument', 'harder', 'trust', 'pure', 'like', 'yusuke', 've', 'girlfriend', 'suddenly', 'play', 'guitar', 'like', 'avian', 'naomi', 'listening', 'saying', 'definitely', 'popular', 'ladies', 'lauren', 'quiet', 'enjoying', 'music', 'definitely', 'think', 'yeah', 'beginning', 'having', 'fun', 'asking', 'play', 'lauren', 'different', 'air', 'way', 'listening', 'like', 'taken', 'like', 'speaking', 'expressions', 'miracle', 'happen', 'possible', 'possible', 'pajamas', 'cute', 'wonder', 'right', 'cute', 'wanted', 'glasses', 'cute', 'maybe', 'master', 'gave', 'master', 'kyubey', 'wear', 'young', 'pajamas', 'wore', 'cute', 'guys', 'kyubey', 'going', 'pool', 'tomorrow', 'want', 'think', 'girls', 'type', 'interesting', 'interesting', 'm', 'sure', 'answer', 'girl', 'personality', 'fits', 'best', 'right', 'avian', 'feel', 'like', 'smiling', 'time', 'right', 'definitely', 'likeable', 'nice', 'lauren', 've', 'met', 'like', 'like', 'like', 'know', 'yusuke', 'beginning', 'beginning', 'use', 'guitar', 'use', 'guitar', 'sidekick', 'super', 'yusuke', 'guitar', 'skills', 'amazing', 'amazing', 'genius', 'amazing', 'seriously', 'listen', 'forever', 'eyes', 'sparkle', 'amazing', 'feels', 'music', 'humble', 'puts', 'act', 'like', 'knows', 'good', 'like', 'personality', 'disappears', 'quickly', 'yeah', 'like', 'okay', 'm', 'committed', 'impressions', 'good', 'good', 'nice', 'shall', 'sleep', 'good', 'night', 'good', 'night', 'm', 'going', 'sleep', 'okay', 'terrace', 'house', 'aloha', 'state'], tags=['eric', 'naomi', 'yuya', 'guy', 'avian', 'lauren', 'yusuke', 1, 'hw_episode1'])"
            ]
          },
          "metadata": {},
          "execution_count": 119
        }
      ]
    },
    {
      "cell_type": "code",
      "source": [
        "dfd2v = gensim.models.doc2vec.Doc2Vec(df['tagged_texts'], size = 1000) "
      ],
      "metadata": {
        "colab": {
          "base_uri": "https://localhost:8080/"
        },
        "id": "iPYVzi6aYeyx",
        "outputId": "8f0fbd6f-1c19-400f-d1fd-8cdf29a31e35"
      },
      "execution_count": 120,
      "outputs": [
        {
          "output_type": "stream",
          "name": "stderr",
          "text": [
            "/usr/local/lib/python3.7/dist-packages/gensim/models/doc2vec.py:570: UserWarning: The parameter `size` is deprecated, will be removed in 4.0.0, use `vector_size` instead.\n",
            "  warnings.warn(\"The parameter `size` is deprecated, will be removed in 4.0.0, use `vector_size` instead.\")\n"
          ]
        }
      ]
    },
    {
      "cell_type": "code",
      "source": [
        "dfd2v.most_similar(positive = ['lauren', 'yusuke'], negative=['artist', 'musician'], topn = 10)"
      ],
      "metadata": {
        "id": "4P3E1vOXMk5c",
        "colab": {
          "base_uri": "https://localhost:8080/"
        },
        "outputId": "98073d51-ab14-4679-f66e-990392522bb1"
      },
      "execution_count": 121,
      "outputs": [
        {
          "output_type": "execute_result",
          "data": {
            "text/plain": [
              "[('masato', 0.9207721948623657),\n",
              " ('seashells', 0.8683939576148987),\n",
              " ('relaxed', 0.8622595071792603),\n",
              " ('tsai', 0.8376728296279907),\n",
              " ('songs', 0.8011718988418579),\n",
              " ('shibusawa', 0.8004000782966614),\n",
              " ('advantage', 0.7950483560562134),\n",
              " ('share', 0.7815676927566528),\n",
              " ('pink', 0.7733873128890991),\n",
              " ('trash', 0.7684526443481445)]"
            ]
          },
          "metadata": {},
          "execution_count": 121
        }
      ]
    },
    {
      "cell_type": "code",
      "source": [
        "dfd2v.most_similar(positive = ['niki', 'guy'], negative=['model', 'surfer'], topn = 10)"
      ],
      "metadata": {
        "id": "LKBw38pQMmeY",
        "colab": {
          "base_uri": "https://localhost:8080/"
        },
        "outputId": "8792646b-9115-4e04-f0c2-0596d5f8a0f8"
      },
      "execution_count": 122,
      "outputs": [
        {
          "output_type": "execute_result",
          "data": {
            "text/plain": [
              "[('masato', 0.9285069108009338),\n",
              " ('tsai', 0.9043951034545898),\n",
              " ('mendonca', 0.8962470293045044),\n",
              " ('shibusawa', 0.8948724269866943),\n",
              " ('songs', 0.8880639672279358),\n",
              " ('salesclerk', 0.8664352893829346),\n",
              " ('pie', 0.8626712560653687),\n",
              " ('walking', 0.8572567701339722),\n",
              " ('baby', 0.8466628789901733),\n",
              " ('america', 0.8434138298034668)]"
            ]
          },
          "metadata": {},
          "execution_count": 122
        }
      ]
    },
    {
      "cell_type": "code",
      "source": [
        "dfd2v.most_similar(positive = ['noah', 'seina'],negative = ['pilot','model'],  topn = 10)"
      ],
      "metadata": {
        "colab": {
          "base_uri": "https://localhost:8080/"
        },
        "id": "yHNNvB5az0D5",
        "outputId": "7b6c42e8-e00c-4699-dcdd-09bfd7b26872"
      },
      "execution_count": 123,
      "outputs": [
        {
          "output_type": "execute_result",
          "data": {
            "text/plain": [
              "[('masato', 0.841888427734375),\n",
              " ('songs', 0.790987491607666),\n",
              " ('tsai', 0.7735499143600464),\n",
              " ('mendonca', 0.7590885758399963),\n",
              " ('shibusawa', 0.7548158168792725),\n",
              " ('pie', 0.7288960814476013),\n",
              " ('trash', 0.7250552773475647),\n",
              " ('underwear', 0.7203251719474792),\n",
              " ('salesclerk', 0.7163604497909546),\n",
              " ('america', 0.7136736512184143)]"
            ]
          },
          "metadata": {},
          "execution_count": 123
        }
      ]
    },
    {
      "cell_type": "markdown",
      "source": [
        "**I have implemented word vector analysis, especially on some couples in the show. More specifically, I hypothesized ([names of couple] - [their occupations]) as in the last exercise. My analysis reveals pretty much nothing. For example, the analysis on ['lauren', 'yusuke'] which did not work well as a result, reveals that the equation equals to 'niwa' (the last name of a cast in the show). Other two analysis did not work much as well. I think that the issue here is how I choose keywords to build the model. I chose the name of the casts and episodes, but it should be more relevant to the actual contexts in the show.**"
      ],
      "metadata": {
        "id": "Vv6DyE7-yiYz"
      }
    },
    {
      "cell_type": "markdown",
      "metadata": {
        "id": "EwXruDbrTnCc"
      },
      "source": [
        "## <font color=\"red\">*Exercise 3*</font>\n",
        "\n",
        "<font color=\"red\">Construct cells immediately below this that embed documents related to your final project, then generate meaningful semantic dimensions based on your theoretical understanding of the semantic space (i.e., by subtracting semantically opposite word vectors) and project another set of word vectors onto those dimensions. Interpret the meaning of these projections for your analysis. Which of the dimensions you analyze explain the most variation in the projection of your words and why? \n",
        "\n",
        "<font color=\"red\">***Stretch***: Average together multiple antonym pairs to create robust semantic dimensions. How do word projections on these robust dimensions differ from single-pair dimensions?"
      ]
    },
    {
      "cell_type": "code",
      "source": [
        "target_semantic = ['man','woman','boy','girl','muscle','feminine','hawaii','japan','tokyo',\n",
        "                   'rich', 'poor','expensive', 'karuizawa','common',\n",
        "                   'casual','formal','active','relax','model','player',\n",
        "                   'surfer','artist','student','carpenter','chef','musician','pilot',\n",
        "                   'actor','retailer','banker','skateboard','snowboard',\n",
        "                   'hockey','soccer','basketball']\n",
        "submatrix_semantic = []\n",
        "for word in target_semantic:\n",
        "  submatrix_semantic.append(dfw2v[word])\n",
        "submatrix_semantic = np.array(submatrix_semantic)"
      ],
      "metadata": {
        "id": "bd7xy-Qh2QUG"
      },
      "execution_count": 130,
      "outputs": []
    },
    {
      "cell_type": "code",
      "source": [
        "def normalize(vector):\n",
        "    normalized_vector = vector / np.linalg.norm(vector)\n",
        "    return normalized_vector\n",
        "\n",
        "def dimension(model, positives, negatives):\n",
        "    diff = sum([normalize(model[x]) for x in positives]) - sum([normalize(model[y]) for y in negatives])\n",
        "    return diff"
      ],
      "metadata": {
        "id": "hZVrc23u_8VD"
      },
      "execution_count": 139,
      "outputs": []
    },
    {
      "cell_type": "code",
      "source": [
        "gender = dimension(dfw2v, ['man','boy','muscle'],['woman','girl','feminine'])\n",
        "class_ = dimension(dfw2v,['rich', 'expensive'],['poor', 'common'])\n",
        "type_ = dimension(dfw2v, ['casual', 'active'],['formal','relax'])"
      ],
      "metadata": {
        "id": "ZE6MvVml_-5m"
      },
      "execution_count": 140,
      "outputs": []
    },
    {
      "cell_type": "code",
      "source": [
        "occ = ['model','player','surfer','artist','student','carpenter','chef','musician','pilot','actor','retailer','banker']\n",
        "sports = ['skateboard','snowboard','hockey','soccer','basketball']\n",
        "\n"
      ],
      "metadata": {
        "id": "oIB8Jhb0X-GH"
      },
      "execution_count": 141,
      "outputs": []
    },
    {
      "cell_type": "code",
      "source": [
        "pca_s = sklearn.decomposition.PCA(n_components=20).fit(submatrix_semantic)\n",
        "reduced_pca_s = pca_s.transform(submatrix_semantic)\n",
        "tsne_semantic = sklearn.manifold.TSNE(n_components = 2).fit_transform(reduced_pca_s)"
      ],
      "metadata": {
        "id": "faIue6eP-9G5"
      },
      "execution_count": 142,
      "outputs": []
    },
    {
      "cell_type": "code",
      "source": [
        "fig = plt.figure(figsize = (20,12))\n",
        "ax = fig.add_subplot(111)\n",
        "ax.set_frame_on(False)\n",
        "plt.scatter(tsne_semantic[:, 0], tsne_semantic[:, 1], alpha = 0) #Making the points invisible\n",
        "for i, word in enumerate(target_semantic):\n",
        "    ax.annotate(word, (tsne_semantic[:, 0][i],tsne_semantic[:, 1][i]), size =  50 * (len(tsne_semantic) - i) / len(tsne_semantic))\n",
        "plt.xticks(())\n",
        "plt.yticks(())\n",
        "plt.show()"
      ],
      "metadata": {
        "colab": {
          "base_uri": "https://localhost:8080/",
          "height": 492
        },
        "id": "m1XVXt2y_sLC",
        "outputId": "57c32853-a31f-4517-821d-cc409d1e5a9e"
      },
      "execution_count": 143,
      "outputs": [
        {
          "output_type": "display_data",
          "data": {
            "image/png": "[encoded data removed]",
            "text/plain": [
              "<Figure size 1440x864 with 1 Axes>"
            ]
          },
          "metadata": {}
        }
      ]
    },
    {
      "cell_type": "code",
      "source": [
        "def makeDF(model, word_list):\n",
        "    g = []\n",
        "    r = []\n",
        "    c = []\n",
        "    for word in word_list:\n",
        "        g.append(sklearn.metrics.pairwise.cosine_similarity(dfw2v[word].reshape(1,-1), gender.reshape(1,-1))[0][0])\n",
        "        r.append(sklearn.metrics.pairwise.cosine_similarity(dfw2v[word].reshape(1,-1), class_.reshape(1,-1))[0][0])\n",
        "        c.append(sklearn.metrics.pairwise.cosine_similarity(dfw2v[word].reshape(1,-1), type_.reshape(1,-1))[0][0])\n",
        "    df = pandas.DataFrame({'gender': g, 'class': r, 'type': c}, index = word_list)\n",
        "    return df"
      ],
      "metadata": {
        "id": "Wa92yuwjYppc"
      },
      "execution_count": 146,
      "outputs": []
    },
    {
      "cell_type": "code",
      "source": [
        "occdf = makeDF(dfw2v, occ)\n",
        "sportsdf = makeDF(dfw2v, sports)"
      ],
      "metadata": {
        "id": "LKo7vR7TYqeK"
      },
      "execution_count": 147,
      "outputs": []
    },
    {
      "cell_type": "code",
      "source": [
        "def Coloring(Series):\n",
        "    x = Series.values\n",
        "    y = x-x.min()\n",
        "    z = y/y.max()\n",
        "    c = list(plt.cm.rainbow(z))\n",
        "    return c\n",
        "\n",
        "def PlotDimension(ax,df, dim):\n",
        "    ax.set_frame_on(False)\n",
        "    ax.set_title(dim, fontsize = 20)\n",
        "    colors = Coloring(df[dim])\n",
        "    for i, word in enumerate(df.index):\n",
        "        ax.annotate(word, (0, df[dim][i]), color = colors[i], alpha = 0.6, fontsize = 12)\n",
        "    MaxY = df[dim].max()\n",
        "    MinY = df[dim].min()\n",
        "    plt.ylim(MinY,MaxY)\n",
        "    plt.yticks(())\n",
        "    plt.xticks(())"
      ],
      "metadata": {
        "id": "DHoKyGqBZHGL"
      },
      "execution_count": 148,
      "outputs": []
    },
    {
      "cell_type": "code",
      "source": [
        "fig = plt.figure(figsize = (12,4))\n",
        "ax1 = fig.add_subplot(131)\n",
        "PlotDimension(ax1, occdf, 'gender')\n",
        "ax2 = fig.add_subplot(132)\n",
        "PlotDimension(ax2, occdf, 'class')\n",
        "ax3 = fig.add_subplot(133)\n",
        "PlotDimension(ax3, occdf, 'type')\n",
        "plt.show()"
      ],
      "metadata": {
        "colab": {
          "base_uri": "https://localhost:8080/",
          "height": 272
        },
        "id": "qK1bgIMRZJ9r",
        "outputId": "690482f4-6636-4e47-fc72-5158d9c2d3ab"
      },
      "execution_count": 149,
      "outputs": [
        {
          "output_type": "display_data",
          "data": {
            "image/png": "[encoded data removed]",
            "text/plain": [
              "<Figure size 864x288 with 3 Axes>"
            ]
          },
          "metadata": {}
        }
      ]
    },
    {
      "cell_type": "code",
      "source": [
        "fig = plt.figure(figsize = (12,4))\n",
        "ax1 = fig.add_subplot(131)\n",
        "PlotDimension(ax1, sportsdf, 'gender')\n",
        "ax2 = fig.add_subplot(132)\n",
        "PlotDimension(ax2, sportsdf, 'class')\n",
        "ax3 = fig.add_subplot(133)\n",
        "PlotDimension(ax3, sportsdf, 'type')\n",
        "plt.show()"
      ],
      "metadata": {
        "colab": {
          "base_uri": "https://localhost:8080/",
          "height": 272
        },
        "id": "CMsSe65zZNFe",
        "outputId": "ff285d8e-2b20-42a1-e42f-05d02609af87"
      },
      "execution_count": 150,
      "outputs": [
        {
          "output_type": "display_data",
          "data": {
            "image/png": "[encoded data removed]",
            "text/plain": [
              "<Figure size 864x288 with 3 Axes>"
            ]
          },
          "metadata": {}
        }
      ]
    },
    {
      "cell_type": "markdown",
      "source": [
        "**Both semantic spaces on sports and occupation are accurately describe the character of the casts corresponding to gender/class/type. For example, 'Tsubasa' who is a feminine professional hockey player is not from wealthy family and is rather casual in their life style.**"
      ],
      "metadata": {
        "id": "GVHpM5LtZnCv"
      }
    },
    {
      "cell_type": "markdown",
      "metadata": {
        "id": "46MjidgFTnCh"
      },
      "source": [
        "You would increase the sample size if you want to do a more serious study.\n",
        "\n",
        "## <font color=\"red\">*Exercise 4a*</font>\n",
        "\n",
        "<font color=\"red\">**Do only 4a or 4b.** Construct cells immediately below this that calculate the scores for a small sample of documents from outside your corpus to identify which are *closest* to your corpus. Then calculate the scores for a few phrases or sentences to identify the ones most likely to have appeared in your corpus. Interrogate patterns associated with these document/phrase scores (e.g., which companies produced job ads most or least likely to find jobseekers in the resume corpus?) What do these patterns suggest about the boundaries of your corpus?"
      ]
    },
    {
      "cell_type": "code",
      "source": [
        "doc_pth = '/content/drive/MyDrive/class_content_analysis/srt'\n",
        "\n",
        "raw_data = []\n",
        "file = open(doc_pth, \"r\",encoding=\"utf-8\", errors='ignore')\n",
        "lines = file.readlines()\n",
        "file.close()\n",
        "\n",
        "for line in lines[24:]:\n",
        "  if not line.startswith('00') and line!='\\n':\n",
        "    word=line\n",
        "    if '\\n' in word:\n",
        "      word = word.replace('\\n', '')\n",
        "    if '<i>' in word:\n",
        "      word = word.replace('<i>','')\n",
        "    if '</i>' in word:\n",
        "      word = word.replace('</i>', '')\n",
        "    if '{\\\\an8}' in word:\n",
        "      word = word.replace('{\\\\an8}', '')\n",
        "    if not word.isdecimal():\n",
        "      if word.startswith('-'):\n",
        "        raw_data.append(word[1:])\n",
        "      else:\n",
        "        raw_data.append(word)\n",
        "\n"
      ],
      "metadata": {
        "id": "tmAhR3oQf-wf"
      },
      "execution_count": 173,
      "outputs": []
    },
    {
      "cell_type": "code",
      "source": [
        "reduced_doc = []\n",
        "n=0\n",
        "for line in raw_data:\n",
        "  if len(line)>30:\n",
        "    reduced_doc.append(line)\n",
        "\n",
        "df_supp = pd.DataFrame({'raw_data': reduced_doc})"
      ],
      "metadata": {
        "id": "yK4wt-pOg6lo"
      },
      "execution_count": 188,
      "outputs": []
    },
    {
      "cell_type": "code",
      "source": [
        "df_supp['tokenized_sents'] = df_supp['raw_data'].apply(lambda x:[lucem_illud.word_tokenize(s) for s in lucem_illud.sent_tokenize(x)] )\n",
        "df_supp['normalized_sents'] = df_supp['tokenized_sents'].apply(lambda x:[lucem_illud.normalizeTokens(s) for s in x])"
      ],
      "metadata": {
        "id": "mmivDhfrkJCf"
      },
      "execution_count": 190,
      "outputs": []
    },
    {
      "cell_type": "code",
      "source": [
        "def adprob(ad, model):\n",
        "    sen_scores = model.score(ad, len(ad))\n",
        "    ad_score = sen_scores.mean()\n",
        "    return ad_score"
      ],
      "metadata": {
        "id": "G6vzN97Yh35Z"
      },
      "execution_count": 192,
      "outputs": []
    },
    {
      "cell_type": "code",
      "source": [
        "dfw2v_score = gensim.models.word2vec.Word2Vec(df['normalized_sents'].sum(), sg=0, hs=2, negative=0)"
      ],
      "metadata": {
        "id": "oFDXV983pRY_"
      },
      "execution_count": 197,
      "outputs": []
    },
    {
      "cell_type": "code",
      "source": [
        "df_supp['likelihood'] = df_supp['normalized_sents'].apply(lambda x: adprob(x, dfw2v_score))"
      ],
      "metadata": {
        "id": "U5usmHLNo8WK"
      },
      "execution_count": 198,
      "outputs": []
    },
    {
      "cell_type": "code",
      "source": [
        "for ad in df_supp.sort_values(by='likelihood',ascending = False)['raw_data'][:5]:\n",
        "  print(ad + '\\n\\n')\n"
      ],
      "metadata": {
        "colab": {
          "base_uri": "https://localhost:8080/"
        },
        "id": "UMMR1XchocVH",
        "outputId": "af4eb534-c5bb-4e9d-95e2-19d3cd7858cb"
      },
      "execution_count": 202,
      "outputs": [
        {
          "output_type": "stream",
          "name": "stdout",
          "text": [
            "\"Why am I struggling with this?\"\n",
            "\n",
            "\n",
            "It doesn't have to be the aquarium.\n",
            "\n",
            "\n",
            "It doesn't have to be the aquarium.\n",
            "\n",
            "\n",
            "After that, Makocchan texted me,\n",
            "\n",
            "\n",
            "who's the fur seal, who's the walrus,\n",
            "\n",
            "\n"
          ]
        }
      ]
    },
    {
      "cell_type": "code",
      "source": [
        "for ad in df_supp.sort_values(by='likelihood')['raw_data'][:5]:\n",
        "  print(ad + '\\n\\n')\n"
      ],
      "metadata": {
        "colab": {
          "base_uri": "https://localhost:8080/"
        },
        "id": "CEriI8AZoisa",
        "outputId": "08a5c0e5-c291-46d6-d0ec-2184b9020a94"
      },
      "execution_count": 206,
      "outputs": [
        {
          "output_type": "stream",
          "name": "stdout",
          "text": [
            "MIZUKI SHIDA, 22 YEARS OLD, OFFICE WORKER\n",
            "\n",
            "\n",
            "Remarkable in the tap dance world.\n",
            "\n",
            "\n",
            "he got nervous, and in a bad way,\n",
            "\n",
            "\n",
            "National champion three years in a row.\n",
            "\n",
            "\n",
            "Yuki is amazing at tap dancing.\n",
            "\n",
            "\n"
          ]
        }
      ]
    },
    {
      "cell_type": "markdown",
      "source": [
        "**As a experiment, I extracted subtitle from different seasons of terrace house to implement this analysis. However, since each sentence is not tagged with information (ex: who says what, relationship), it is hard to scrutinize actual patterns underlying possible matching among the casts across different seasons. This could be something that I have to consider further**  "
      ],
      "metadata": {
        "id": "NXs7Nc2mxNv6"
      }
    },
    {
      "cell_type": "code",
      "source": [
        ""
      ],
      "metadata": {
        "id": "giAUZi38x7rN"
      },
      "execution_count": null,
      "outputs": []
    }
  ],
  "metadata": {
    "anaconda-cloud": {},
    "kernelspec": {
      "display_name": "Python 3 (ipykernel)",
      "language": "python",
      "name": "python3"
    },
    "language_info": {
      "codemirror_mode": {
        "name": "ipython",
        "version": 3
      },
      "file_extension": ".py",
      "mimetype": "text/x-python",
      "name": "python",
      "nbconvert_exporter": "python",
      "pygments_lexer": "ipython3",
      "version": "3.8.5"
    },
    "colab": {
      "name": "copy_week4_ttsujikawa.ipynb",
      "provenance": [],
      "collapsed_sections": []
    }
  },
  "nbformat": 4,
  "nbformat_minor": 0
}