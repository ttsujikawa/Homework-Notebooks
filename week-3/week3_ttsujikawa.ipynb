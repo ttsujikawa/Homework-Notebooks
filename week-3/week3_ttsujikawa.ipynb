{
  "cells": [
    {
      "cell_type": "code",
      "source": [
        "pip install -U git+git://github.com/UChicago-Computational-Content-Analysis/lucem_illud.git"
      ],
      "metadata": {
        "id": "9Q86_Q-PI06P",
        "outputId": "c05e8ac7-159f-4edd-d4fd-89f29fc057dd",
        "colab": {
          "base_uri": "https://localhost:8080/"
        }
      },
      "execution_count": 116,
      "outputs": [
        {
          "output_type": "stream",
          "name": "stdout",
          "text": [
            "Collecting git+git://github.com/UChicago-Computational-Content-Analysis/lucem_illud.git\n",
            "  Cloning git://github.com/UChicago-Computational-Content-Analysis/lucem_illud.git to /tmp/pip-req-build-ec13yhr1\n",
            "  Running command git clone -q git://github.com/UChicago-Computational-Content-Analysis/lucem_illud.git /tmp/pip-req-build-ec13yhr1\n",
            "Requirement already satisfied: numpy in /usr/local/lib/python3.7/dist-packages (from lucem-illud==8.0.1) (1.19.5)\n",
            "Requirement already satisfied: requests in /usr/local/lib/python3.7/dist-packages (from lucem-illud==8.0.1) (2.23.0)\n",
            "Requirement already satisfied: pandas in /usr/local/lib/python3.7/dist-packages (from lucem-illud==8.0.1) (1.3.5)\n",
            "Requirement already satisfied: python-docx in /usr/local/lib/python3.7/dist-packages (from lucem-illud==8.0.1) (0.8.11)\n",
            "Requirement already satisfied: pillow in /usr/local/lib/python3.7/dist-packages (from lucem-illud==8.0.1) (7.1.2)\n",
            "Requirement already satisfied: pdfminer2 in /usr/local/lib/python3.7/dist-packages (from lucem-illud==8.0.1) (20151206)\n",
            "Requirement already satisfied: GitPython in /usr/local/lib/python3.7/dist-packages (from lucem-illud==8.0.1) (3.1.26)\n",
            "Requirement already satisfied: wordcloud in /usr/local/lib/python3.7/dist-packages (from lucem-illud==8.0.1) (1.5.0)\n",
            "Requirement already satisfied: scipy in /usr/local/lib/python3.7/dist-packages (from lucem-illud==8.0.1) (1.4.1)\n",
            "Requirement already satisfied: seaborn in /usr/local/lib/python3.7/dist-packages (from lucem-illud==8.0.1) (0.11.2)\n",
            "Requirement already satisfied: scikit-learn in /usr/local/lib/python3.7/dist-packages (from lucem-illud==8.0.1) (1.0.2)\n",
            "Requirement already satisfied: nltk in /usr/local/lib/python3.7/dist-packages (from lucem-illud==8.0.1) (3.2.5)\n",
            "Requirement already satisfied: gensim in /usr/local/lib/python3.7/dist-packages (from lucem-illud==8.0.1) (3.6.0)\n",
            "Requirement already satisfied: matplotlib in /usr/local/lib/python3.7/dist-packages (from lucem-illud==8.0.1) (3.2.2)\n",
            "Requirement already satisfied: pyanno3 in /usr/local/lib/python3.7/dist-packages (from lucem-illud==8.0.1) (2.0.2)\n",
            "Requirement already satisfied: beautifulsoup4 in /usr/local/lib/python3.7/dist-packages (from lucem-illud==8.0.1) (4.6.3)\n",
            "Requirement already satisfied: graphviz in /usr/local/lib/python3.7/dist-packages (from lucem-illud==8.0.1) (0.10.1)\n",
            "Requirement already satisfied: boto3 in /usr/local/lib/python3.7/dist-packages (from lucem-illud==8.0.1) (1.21.0)\n",
            "Requirement already satisfied: networkx in /usr/local/lib/python3.7/dist-packages (from lucem-illud==8.0.1) (2.6.3)\n",
            "Requirement already satisfied: pydub in /usr/local/lib/python3.7/dist-packages (from lucem-illud==8.0.1) (0.25.1)\n",
            "Requirement already satisfied: speechrecognition in /usr/local/lib/python3.7/dist-packages (from lucem-illud==8.0.1) (3.8.1)\n",
            "Requirement already satisfied: pysoundfile in /usr/local/lib/python3.7/dist-packages (from lucem-illud==8.0.1) (0.9.0.post1)\n",
            "Requirement already satisfied: scikit-image in /usr/local/lib/python3.7/dist-packages (from lucem-illud==8.0.1) (0.18.3)\n",
            "Requirement already satisfied: IPython in /usr/local/lib/python3.7/dist-packages (from lucem-illud==8.0.1) (5.5.0)\n",
            "Requirement already satisfied: spacy in /usr/local/lib/python3.7/dist-packages (from lucem-illud==8.0.1) (2.2.4)\n",
            "Requirement already satisfied: botocore<1.25.0,>=1.24.0 in /usr/local/lib/python3.7/dist-packages (from boto3->lucem-illud==8.0.1) (1.24.0)\n",
            "Requirement already satisfied: s3transfer<0.6.0,>=0.5.0 in /usr/local/lib/python3.7/dist-packages (from boto3->lucem-illud==8.0.1) (0.5.1)\n",
            "Requirement already satisfied: jmespath<1.0.0,>=0.7.1 in /usr/local/lib/python3.7/dist-packages (from boto3->lucem-illud==8.0.1) (0.10.0)\n",
            "Requirement already satisfied: python-dateutil<3.0.0,>=2.1 in /usr/local/lib/python3.7/dist-packages (from botocore<1.25.0,>=1.24.0->boto3->lucem-illud==8.0.1) (2.8.2)\n",
            "Requirement already satisfied: urllib3<1.27,>=1.25.4 in /usr/local/lib/python3.7/dist-packages (from botocore<1.25.0,>=1.24.0->boto3->lucem-illud==8.0.1) (1.25.11)\n",
            "Requirement already satisfied: six>=1.5 in /usr/local/lib/python3.7/dist-packages (from python-dateutil<3.0.0,>=2.1->botocore<1.25.0,>=1.24.0->boto3->lucem-illud==8.0.1) (1.15.0)\n",
            "Requirement already satisfied: smart-open>=1.2.1 in /usr/local/lib/python3.7/dist-packages (from gensim->lucem-illud==8.0.1) (5.2.1)\n",
            "Requirement already satisfied: typing-extensions>=3.7.4.3 in /usr/local/lib/python3.7/dist-packages (from GitPython->lucem-illud==8.0.1) (3.10.0.2)\n",
            "Requirement already satisfied: gitdb<5,>=4.0.1 in /usr/local/lib/python3.7/dist-packages (from GitPython->lucem-illud==8.0.1) (4.0.9)\n",
            "Requirement already satisfied: smmap<6,>=3.0.1 in /usr/local/lib/python3.7/dist-packages (from gitdb<5,>=4.0.1->GitPython->lucem-illud==8.0.1) (5.0.0)\n",
            "Requirement already satisfied: decorator in /usr/local/lib/python3.7/dist-packages (from IPython->lucem-illud==8.0.1) (4.4.2)\n",
            "Requirement already satisfied: pygments in /usr/local/lib/python3.7/dist-packages (from IPython->lucem-illud==8.0.1) (2.6.1)\n",
            "Requirement already satisfied: setuptools>=18.5 in /usr/local/lib/python3.7/dist-packages (from IPython->lucem-illud==8.0.1) (57.4.0)\n",
            "Requirement already satisfied: pickleshare in /usr/local/lib/python3.7/dist-packages (from IPython->lucem-illud==8.0.1) (0.7.5)\n",
            "Requirement already satisfied: pexpect in /usr/local/lib/python3.7/dist-packages (from IPython->lucem-illud==8.0.1) (4.8.0)\n",
            "Requirement already satisfied: prompt-toolkit<2.0.0,>=1.0.4 in /usr/local/lib/python3.7/dist-packages (from IPython->lucem-illud==8.0.1) (1.0.18)\n",
            "Requirement already satisfied: simplegeneric>0.8 in /usr/local/lib/python3.7/dist-packages (from IPython->lucem-illud==8.0.1) (0.8.1)\n",
            "Requirement already satisfied: traitlets>=4.2 in /usr/local/lib/python3.7/dist-packages (from IPython->lucem-illud==8.0.1) (5.1.1)\n",
            "Requirement already satisfied: wcwidth in /usr/local/lib/python3.7/dist-packages (from prompt-toolkit<2.0.0,>=1.0.4->IPython->lucem-illud==8.0.1) (0.2.5)\n",
            "Requirement already satisfied: pyparsing!=2.0.4,!=2.1.2,!=2.1.6,>=2.0.1 in /usr/local/lib/python3.7/dist-packages (from matplotlib->lucem-illud==8.0.1) (3.0.7)\n",
            "Requirement already satisfied: kiwisolver>=1.0.1 in /usr/local/lib/python3.7/dist-packages (from matplotlib->lucem-illud==8.0.1) (1.3.2)\n",
            "Requirement already satisfied: cycler>=0.10 in /usr/local/lib/python3.7/dist-packages (from matplotlib->lucem-illud==8.0.1) (0.11.0)\n",
            "Requirement already satisfied: pytz>=2017.3 in /usr/local/lib/python3.7/dist-packages (from pandas->lucem-illud==8.0.1) (2018.9)\n",
            "Requirement already satisfied: ptyprocess>=0.5 in /usr/local/lib/python3.7/dist-packages (from pexpect->IPython->lucem-illud==8.0.1) (0.7.0)\n",
            "Requirement already satisfied: traits in /usr/local/lib/python3.7/dist-packages (from pyanno3->lucem-illud==8.0.1) (6.3.2)\n",
            "Requirement already satisfied: cffi>=0.6 in /usr/local/lib/python3.7/dist-packages (from pysoundfile->lucem-illud==8.0.1) (1.15.0)\n",
            "Requirement already satisfied: pycparser in /usr/local/lib/python3.7/dist-packages (from cffi>=0.6->pysoundfile->lucem-illud==8.0.1) (2.21)\n",
            "Requirement already satisfied: lxml>=2.3.2 in /usr/local/lib/python3.7/dist-packages (from python-docx->lucem-illud==8.0.1) (4.2.6)\n",
            "Requirement already satisfied: certifi>=2017.4.17 in /usr/local/lib/python3.7/dist-packages (from requests->lucem-illud==8.0.1) (2021.10.8)\n",
            "Requirement already satisfied: chardet<4,>=3.0.2 in /usr/local/lib/python3.7/dist-packages (from requests->lucem-illud==8.0.1) (3.0.4)\n",
            "Requirement already satisfied: idna<3,>=2.5 in /usr/local/lib/python3.7/dist-packages (from requests->lucem-illud==8.0.1) (2.10)\n",
            "Requirement already satisfied: imageio>=2.3.0 in /usr/local/lib/python3.7/dist-packages (from scikit-image->lucem-illud==8.0.1) (2.4.1)\n",
            "Requirement already satisfied: PyWavelets>=1.1.1 in /usr/local/lib/python3.7/dist-packages (from scikit-image->lucem-illud==8.0.1) (1.2.0)\n",
            "Requirement already satisfied: tifffile>=2019.7.26 in /usr/local/lib/python3.7/dist-packages (from scikit-image->lucem-illud==8.0.1) (2021.11.2)\n",
            "Requirement already satisfied: threadpoolctl>=2.0.0 in /usr/local/lib/python3.7/dist-packages (from scikit-learn->lucem-illud==8.0.1) (3.1.0)\n",
            "Requirement already satisfied: joblib>=0.11 in /usr/local/lib/python3.7/dist-packages (from scikit-learn->lucem-illud==8.0.1) (1.1.0)\n",
            "Requirement already satisfied: murmurhash<1.1.0,>=0.28.0 in /usr/local/lib/python3.7/dist-packages (from spacy->lucem-illud==8.0.1) (1.0.6)\n",
            "Requirement already satisfied: blis<0.5.0,>=0.4.0 in /usr/local/lib/python3.7/dist-packages (from spacy->lucem-illud==8.0.1) (0.4.1)\n",
            "Requirement already satisfied: tqdm<5.0.0,>=4.38.0 in /usr/local/lib/python3.7/dist-packages (from spacy->lucem-illud==8.0.1) (4.62.3)\n",
            "Requirement already satisfied: thinc==7.4.0 in /usr/local/lib/python3.7/dist-packages (from spacy->lucem-illud==8.0.1) (7.4.0)\n",
            "Requirement already satisfied: plac<1.2.0,>=0.9.6 in /usr/local/lib/python3.7/dist-packages (from spacy->lucem-illud==8.0.1) (1.1.3)\n",
            "Requirement already satisfied: catalogue<1.1.0,>=0.0.7 in /usr/local/lib/python3.7/dist-packages (from spacy->lucem-illud==8.0.1) (1.0.0)\n",
            "Requirement already satisfied: cymem<2.1.0,>=2.0.2 in /usr/local/lib/python3.7/dist-packages (from spacy->lucem-illud==8.0.1) (2.0.6)\n",
            "Requirement already satisfied: srsly<1.1.0,>=1.0.2 in /usr/local/lib/python3.7/dist-packages (from spacy->lucem-illud==8.0.1) (1.0.5)\n",
            "Requirement already satisfied: preshed<3.1.0,>=3.0.2 in /usr/local/lib/python3.7/dist-packages (from spacy->lucem-illud==8.0.1) (3.0.6)\n",
            "Requirement already satisfied: wasabi<1.1.0,>=0.4.0 in /usr/local/lib/python3.7/dist-packages (from spacy->lucem-illud==8.0.1) (0.9.0)\n",
            "Requirement already satisfied: importlib-metadata>=0.20 in /usr/local/lib/python3.7/dist-packages (from catalogue<1.1.0,>=0.0.7->spacy->lucem-illud==8.0.1) (4.10.1)\n",
            "Requirement already satisfied: zipp>=0.5 in /usr/local/lib/python3.7/dist-packages (from importlib-metadata>=0.20->catalogue<1.1.0,>=0.0.7->spacy->lucem-illud==8.0.1) (3.7.0)\n"
          ]
        }
      ]
    },
    {
      "cell_type": "code",
      "execution_count": 117,
      "metadata": {
        "collapsed": true,
        "id": "Of4lEv5lmKhe"
      },
      "outputs": [],
      "source": [
        "#@title\n",
        "#Special module written for this class\n",
        "#This provides access to data and to helper functions from previous weeks\n",
        "#Make sure you update it before starting this notebook\n",
        "import lucem_illud #pip install -U git+git://github.com/UChicago-Computational-Content-Analysis/lucem_illud.git\n",
        "\n",
        "\n",
        "#All these packages need to be installed from pip\n",
        "#These are all for the cluster detection\n",
        "import sklearn\n",
        "import sklearn.feature_extraction.text\n",
        "import sklearn.pipeline\n",
        "import sklearn.preprocessing\n",
        "import sklearn.datasets\n",
        "import sklearn.cluster\n",
        "import sklearn.decomposition\n",
        "import sklearn.metrics\n",
        "\n",
        "import scipy #For hierarchical clustering and some visuals\n",
        "#import scipy.cluster.hierarchy\n",
        "import gensim#For topic modeling\n",
        "import requests #For downloading our datasets\n",
        "import numpy as np #for arrays\n",
        "import pandas #gives us DataFrames\n",
        "import matplotlib.pyplot as plt #For graphics\n",
        "import matplotlib.cm #Still for graphics\n",
        "import seaborn as sns #Makes the graphics look nicer\n",
        "\n",
        "#This 'magic' command makes the plots work better\n",
        "#in the notebook, don't use it outside of a notebook.\n",
        "#Also you can ignore the warning, it\n",
        "%matplotlib inline\n",
        "\n",
        "import itertools\n",
        "import json"
      ]
    },
    {
      "cell_type": "markdown",
      "metadata": {
        "id": "UGWYpcc4mKhu"
      },
      "source": [
        "## <font color=\"red\">*Exercise 1*</font>\n",
        "\n",
        "<font color=\"red\">Construct cells immediately below this that construct features and cluster your documents using K-means and a variety of cluster numbers. Interrogate the cluster contents in terms of both documents and features. Identify the \"optimal\" cluster number with Silhouette analysis. Plot clusters and features after reducing with PCA. What does this cluster structure reveal about the organization of documents in your corpora? "
      ]
    },
    {
      "cell_type": "code",
      "source": [
        "from google.colab import drive\n",
        "drive.mount('/content/drive', force_remount=True)"
      ],
      "metadata": {
        "id": "aha_3Wtuqw9D",
        "colab": {
          "base_uri": "https://localhost:8080/"
        },
        "outputId": "de96724c-0a8d-49d7-f5de-f4c7a82c69e5"
      },
      "execution_count": 118,
      "outputs": [
        {
          "output_type": "stream",
          "name": "stdout",
          "text": [
            "Mounted at /content/drive\n"
          ]
        }
      ]
    },
    {
      "cell_type": "code",
      "source": [
        "import pandas as pd\n",
        "import os\n",
        "subtitle = \"/content/drive/My Drive/subtitle/\" \n",
        "\n",
        "# read file line by line\n",
        "def load_corpus(url):\n",
        "  raw_data = []\n",
        "  index = []\n",
        "  for fi in os.listdir(subtitle):\n",
        "    index.append(fi)\n",
        "    txt = []\n",
        "    file = open(os.path.join(url, fi), \"r\",encoding=\"utf-8\", errors='ignore')\n",
        "    lines = file.readlines()\n",
        "    file.close()\n",
        "    for line in lines[24:]:\n",
        "      if not line.startswith('00') and line!='\\n':\n",
        "        word=line\n",
        "        if '\\n' in word:\n",
        "          word = word.replace('\\n', '')\n",
        "        if '<i>' in word:\n",
        "          word = word.replace('<i>','')\n",
        "        if '</i>' in word:\n",
        "          word = word.replace('</i>', '')\n",
        "        if '{\\\\an8}' in word:\n",
        "          word = word.replace('{\\\\an8}', '')\n",
        "        if not word.isdecimal():\n",
        "          if word.startswith('-'):\n",
        "            txt.append(word[1:])\n",
        "          else:\n",
        "            txt.append(word)\n",
        "    raw_data.append(' '.join(txt))\n",
        "  return raw_data, index\n",
        "\n",
        "raw_hw, index_hw = load_corpus(subtitle)\n",
        "raw_hw.pop(-1)\n",
        "index_hw.pop(-1)\n",
        "for i, title in enumerate(index_hw):\n",
        "  index_hw[i]='hw_'+title\n",
        "\n",
        "subtitle_kr = '/content/drive/My Drive/subtitle_kr/'\n",
        "raw_kr, index_kr = load_corpus(subtitle_kr)\n",
        "raw_kr.pop(-1)\n",
        "index_kr.pop(-1)\n",
        "for i, title in enumerate(index_kr):\n",
        "  index_kr[i]='kr_'+title\n",
        "\n",
        "index_hw.extend(index_kr)\n",
        "raw_hw.extend(raw_kr)\n",
        "\n",
        "season = []\n",
        "for i in index_hw:\n",
        "  if i.startswith('hw'):\n",
        "    season.append('Aloha State')\n",
        "  else:\n",
        "    season.append('Karuizawa')\n",
        "\n",
        "df = pd.DataFrame({'raw_data':raw_hw, 'category' : season}, index = index_hw)"
      ],
      "metadata": {
        "id": "ZYpDk-4HJ3bL"
      },
      "execution_count": 119,
      "outputs": []
    },
    {
      "cell_type": "code",
      "source": [
        "df"
      ],
      "metadata": {
        "id": "219HQwSllba5",
        "colab": {
          "base_uri": "https://localhost:8080/",
          "height": 423
        },
        "outputId": "1a970ab8-44b4-45d2-f593-acda8e718e9b"
      },
      "execution_count": 120,
      "outputs": [
        {
          "output_type": "execute_result",
          "data": {
            "text/html": [
              "\n",
              "  <div id=\"df-19d35b0a-32da-47cf-b8d4-1a8e0eb564c5\">\n",
              "    <div class=\"colab-df-container\">\n",
              "      <div>\n",
              "<style scoped>\n",
              "    .dataframe tbody tr th:only-of-type {\n",
              "        vertical-align: middle;\n",
              "    }\n",
              "\n",
              "    .dataframe tbody tr th {\n",
              "        vertical-align: top;\n",
              "    }\n",
              "\n",
              "    .dataframe thead th {\n",
              "        text-align: right;\n",
              "    }\n",
              "</style>\n",
              "<table border=\"1\" class=\"dataframe\">\n",
              "  <thead>\n",
              "    <tr style=\"text-align: right;\">\n",
              "      <th></th>\n",
              "      <th>raw_data</th>\n",
              "      <th>category</th>\n",
              "    </tr>\n",
              "  </thead>\n",
              "  <tbody>\n",
              "    <tr>\n",
              "      <th>hw_episode1</th>\n",
              "      <td>Tonight, we start a new season in Hawaii. Terr...</td>\n",
              "      <td>Aloha State</td>\n",
              "    </tr>\n",
              "    <tr>\n",
              "      <th>hw_episode2</th>\n",
              "      <td>Terrace House: Aloha State has begun. Yes! The...</td>\n",
              "      <td>Aloha State</td>\n",
              "    </tr>\n",
              "    <tr>\n",
              "      <th>hw_episode3</th>\n",
              "      <td>I'm certain you've noticed that Torichan is no...</td>\n",
              "      <td>Aloha State</td>\n",
              "    </tr>\n",
              "    <tr>\n",
              "      <th>hw_episode4</th>\n",
              "      <td>Torichan is at a very important job once again...</td>\n",
              "      <td>Aloha State</td>\n",
              "    </tr>\n",
              "    <tr>\n",
              "      <th>hw_episode5</th>\n",
              "      <td>Last time, there was the surfing issue... Laur...</td>\n",
              "      <td>Aloha State</td>\n",
              "    </tr>\n",
              "    <tr>\n",
              "      <th>...</th>\n",
              "      <td>...</td>\n",
              "      <td>...</td>\n",
              "    </tr>\n",
              "    <tr>\n",
              "      <th>kr_episode32</th>\n",
              "      <td>Let's see. A lot happened last week. Let's sta...</td>\n",
              "      <td>Karuizawa</td>\n",
              "    </tr>\n",
              "    <tr>\n",
              "      <th>kr_episode33</th>\n",
              "      <td>Let's see. Last week... things started out lig...</td>\n",
              "      <td>Karuizawa</td>\n",
              "    </tr>\n",
              "    <tr>\n",
              "      <th>kr_episode34</th>\n",
              "      <td>Let's see. Last week, Shunsuke moved in. He an...</td>\n",
              "      <td>Karuizawa</td>\n",
              "    </tr>\n",
              "    <tr>\n",
              "      <th>kr_episode35</th>\n",
              "      <td>Let's see. Three members left last week. Yes, ...</td>\n",
              "      <td>Karuizawa</td>\n",
              "    </tr>\n",
              "    <tr>\n",
              "      <th>kr_episode36</th>\n",
              "      <td>Let's see... Last week, three new members move...</td>\n",
              "      <td>Karuizawa</td>\n",
              "    </tr>\n",
              "  </tbody>\n",
              "</table>\n",
              "<p>72 rows × 2 columns</p>\n",
              "</div>\n",
              "      <button class=\"colab-df-convert\" onclick=\"convertToInteractive('df-19d35b0a-32da-47cf-b8d4-1a8e0eb564c5')\"\n",
              "              title=\"Convert this dataframe to an interactive table.\"\n",
              "              style=\"display:none;\">\n",
              "        \n",
              "  <svg xmlns=\"http://www.w3.org/2000/svg\" height=\"24px\"viewBox=\"0 0 24 24\"\n",
              "       width=\"24px\">\n",
              "    <path d=\"M0 0h24v24H0V0z\" fill=\"none\"/>\n",
              "    <path d=\"M18.56 5.44l.94 2.06.94-2.06 2.06-.94-2.06-.94-.94-2.06-.94 2.06-2.06.94zm-11 1L8.5 8.5l.94-2.06 2.06-.94-2.06-.94L8.5 2.5l-.94 2.06-2.06.94zm10 10l.94 2.06.94-2.06 2.06-.94-2.06-.94-.94-2.06-.94 2.06-2.06.94z\"/><path d=\"M17.41 7.96l-1.37-1.37c-.4-.4-.92-.59-1.43-.59-.52 0-1.04.2-1.43.59L10.3 9.45l-7.72 7.72c-.78.78-.78 2.05 0 2.83L4 21.41c.39.39.9.59 1.41.59.51 0 1.02-.2 1.41-.59l7.78-7.78 2.81-2.81c.8-.78.8-2.07 0-2.86zM5.41 20L4 18.59l7.72-7.72 1.47 1.35L5.41 20z\"/>\n",
              "  </svg>\n",
              "      </button>\n",
              "      \n",
              "  <style>\n",
              "    .colab-df-container {\n",
              "      display:flex;\n",
              "      flex-wrap:wrap;\n",
              "      gap: 12px;\n",
              "    }\n",
              "\n",
              "    .colab-df-convert {\n",
              "      background-color: #E8F0FE;\n",
              "      border: none;\n",
              "      border-radius: 50%;\n",
              "      cursor: pointer;\n",
              "      display: none;\n",
              "      fill: #1967D2;\n",
              "      height: 32px;\n",
              "      padding: 0 0 0 0;\n",
              "      width: 32px;\n",
              "    }\n",
              "\n",
              "    .colab-df-convert:hover {\n",
              "      background-color: #E2EBFA;\n",
              "      box-shadow: 0px 1px 2px rgba(60, 64, 67, 0.3), 0px 1px 3px 1px rgba(60, 64, 67, 0.15);\n",
              "      fill: #174EA6;\n",
              "    }\n",
              "\n",
              "    [theme=dark] .colab-df-convert {\n",
              "      background-color: #3B4455;\n",
              "      fill: #D2E3FC;\n",
              "    }\n",
              "\n",
              "    [theme=dark] .colab-df-convert:hover {\n",
              "      background-color: #434B5C;\n",
              "      box-shadow: 0px 1px 3px 1px rgba(0, 0, 0, 0.15);\n",
              "      filter: drop-shadow(0px 1px 2px rgba(0, 0, 0, 0.3));\n",
              "      fill: #FFFFFF;\n",
              "    }\n",
              "  </style>\n",
              "\n",
              "      <script>\n",
              "        const buttonEl =\n",
              "          document.querySelector('#df-19d35b0a-32da-47cf-b8d4-1a8e0eb564c5 button.colab-df-convert');\n",
              "        buttonEl.style.display =\n",
              "          google.colab.kernel.accessAllowed ? 'block' : 'none';\n",
              "\n",
              "        async function convertToInteractive(key) {\n",
              "          const element = document.querySelector('#df-19d35b0a-32da-47cf-b8d4-1a8e0eb564c5');\n",
              "          const dataTable =\n",
              "            await google.colab.kernel.invokeFunction('convertToInteractive',\n",
              "                                                     [key], {});\n",
              "          if (!dataTable) return;\n",
              "\n",
              "          const docLinkHtml = 'Like what you see? Visit the ' +\n",
              "            '<a target=\"_blank\" href=https://colab.research.google.com/notebooks/data_table.ipynb>data table notebook</a>'\n",
              "            + ' to learn more about interactive tables.';\n",
              "          element.innerHTML = '';\n",
              "          dataTable['output_type'] = 'display_data';\n",
              "          await google.colab.output.renderOutput(dataTable, element);\n",
              "          const docLink = document.createElement('div');\n",
              "          docLink.innerHTML = docLinkHtml;\n",
              "          element.appendChild(docLink);\n",
              "        }\n",
              "      </script>\n",
              "    </div>\n",
              "  </div>\n",
              "  "
            ],
            "text/plain": [
              "                                                       raw_data     category\n",
              "hw_episode1   Tonight, we start a new season in Hawaii. Terr...  Aloha State\n",
              "hw_episode2   Terrace House: Aloha State has begun. Yes! The...  Aloha State\n",
              "hw_episode3   I'm certain you've noticed that Torichan is no...  Aloha State\n",
              "hw_episode4   Torichan is at a very important job once again...  Aloha State\n",
              "hw_episode5   Last time, there was the surfing issue... Laur...  Aloha State\n",
              "...                                                         ...          ...\n",
              "kr_episode32  Let's see. A lot happened last week. Let's sta...    Karuizawa\n",
              "kr_episode33  Let's see. Last week... things started out lig...    Karuizawa\n",
              "kr_episode34  Let's see. Last week, Shunsuke moved in. He an...    Karuizawa\n",
              "kr_episode35  Let's see. Three members left last week. Yes, ...    Karuizawa\n",
              "kr_episode36  Let's see... Last week, three new members move...    Karuizawa\n",
              "\n",
              "[72 rows x 2 columns]"
            ]
          },
          "metadata": {},
          "execution_count": 120
        }
      ]
    },
    {
      "cell_type": "code",
      "source": [
        "th_count_vec = sklearn.feature_extraction.text.CountVectorizer()\n",
        "#Then trained\n",
        "th_Vects = th_count_vec.fit_transform(df['raw_data'])\n",
        "th_trans = sklearn.feature_extraction.text.TfidfTransformer().fit(th_Vects)\n",
        "#train\n",
        "thTF = th_trans.transform(th_Vects)\n",
        "print(thTF.shape)"
      ],
      "metadata": {
        "id": "5iidQxLVdMYj",
        "colab": {
          "base_uri": "https://localhost:8080/"
        },
        "outputId": "b148c406-ee69-4556-e938-9d96dde7e6b0"
      },
      "execution_count": 121,
      "outputs": [
        {
          "output_type": "stream",
          "name": "stdout",
          "text": [
            "(72, 7936)\n"
          ]
        }
      ]
    },
    {
      "cell_type": "code",
      "source": [
        "#reduce the volume of target words\n",
        "thTFvectorizer = sklearn.feature_extraction.text.TfidfVectorizer(max_df=0.31, max_features=2000, min_df=1, stop_words='english', norm='l2')\n",
        "thTFVects = thTFvectorizer.fit_transform(df['raw_data'])\n"
      ],
      "metadata": {
        "id": "A2uNzieNimN8"
      },
      "execution_count": 122,
      "outputs": []
    },
    {
      "cell_type": "code",
      "source": [
        "try:\n",
        "    print(thTFvectorizer.vocabulary_['vector'])\n",
        "except KeyError:\n",
        "    print('vector is missing')\n",
        "    print('The available words are: {} ...'.format(list(thTFvectorizer.vocabulary_.keys())[:10]))"
      ],
      "metadata": {
        "id": "Q0IcOfKmkT5g",
        "colab": {
          "base_uri": "https://localhost:8080/"
        },
        "outputId": "eba56965-9ccc-4c91-9231-2d6ee53b22de"
      },
      "execution_count": 123,
      "outputs": [
        {
          "output_type": "stream",
          "name": "stdout",
          "text": [
            "vector is missing\n",
            "The available words are: ['aloha', 'state', 'trip', 'confidence', 'yamachan', 'lost', 'ala', 'moana', 'center', 'yu'] ...\n"
          ]
        }
      ]
    },
    {
      "cell_type": "code",
      "source": [
        "num_cate = len(set(df['category']))\n",
        "k_m = sklearn.cluster.KMeans(n_clusters = num_cate, init = 'k-means++')\n",
        "k_m.fit(thTFVects)\n"
      ],
      "metadata": {
        "id": "3oIJx1CYlOCM",
        "colab": {
          "base_uri": "https://localhost:8080/"
        },
        "outputId": "d02dfb19-7aa5-4026-dc4c-e028e871b2fc"
      },
      "execution_count": 124,
      "outputs": [
        {
          "output_type": "execute_result",
          "data": {
            "text/plain": [
              "KMeans(n_clusters=2)"
            ]
          },
          "metadata": {},
          "execution_count": 124
        }
      ]
    },
    {
      "cell_type": "code",
      "source": [
        "print(\"For our clusters:\")\n",
        "print(\"Homogeneity: {:0.3f}\".format(sklearn.metrics.homogeneity_score(df['category'], k_m.labels_)))\n",
        "print(\"Completeness: {:0.3f}\".format(sklearn.metrics.completeness_score(df['category'], k_m.labels_)))\n",
        "print(\"V-measure: {:0.3f}\".format(sklearn.metrics.v_measure_score(df['category'], k_m.labels_)))\n",
        "print(\"Adjusted Rand Score: {:0.3f}\".format(sklearn.metrics.adjusted_rand_score(df['category'], k_m.labels_)))"
      ],
      "metadata": {
        "id": "AsisJVY7qslt",
        "colab": {
          "base_uri": "https://localhost:8080/"
        },
        "outputId": "86f8e30a-56ff-4b55-8eb0-5de4a5bd4a1c"
      },
      "execution_count": 125,
      "outputs": [
        {
          "output_type": "stream",
          "name": "stdout",
          "text": [
            "For our clusters:\n",
            "Homogeneity: 0.248\n",
            "Completeness: 0.336\n",
            "V-measure: 0.286\n",
            "Adjusted Rand Score: 0.166\n"
          ]
        }
      ]
    },
    {
      "cell_type": "code",
      "source": [
        "df['km_pred']= k_m.labels_"
      ],
      "metadata": {
        "id": "PQFQaK6Msvjb"
      },
      "execution_count": 126,
      "outputs": []
    },
    {
      "cell_type": "code",
      "source": [
        "terms = thTFvectorizer.get_feature_names()\n",
        "print(\"Top terms per cluster:\")\n",
        "order_centroids = k_m.cluster_centers_.argsort()[:, ::-1]\n",
        "for i in range(num_cate):\n",
        "    print(\"Cluster %d:\" % i)\n",
        "    for ind in order_centroids[i, :10]:\n",
        "        print(' %s' % terms[ind])\n",
        "    print('\\n')"
      ],
      "metadata": {
        "id": "LUWkKoxHuMJL",
        "colab": {
          "base_uri": "https://localhost:8080/"
        },
        "outputId": "d947dc2d-f114-4227-e06e-b598f1ecd2de"
      },
      "execution_count": 127,
      "outputs": [
        {
          "output_type": "stream",
          "name": "stdout",
          "text": [
            "Top terms per cluster:\n",
            "Cluster 0:\n",
            " ami\n",
            " cheri\n",
            " yusuke\n",
            " niki\n",
            " yuudai\n",
            " chikako\n",
            " naomi\n",
            " wez\n",
            " 18\n",
            " soba\n",
            "\n",
            "\n",
            "Cluster 1:\n",
            " noah\n",
            " yui\n",
            " aya\n",
            " mayu\n",
            " konnyaku\n",
            " shunsuke\n",
            " skateboarding\n",
            " waterfall\n",
            " riding\n",
            " horseback\n",
            "\n",
            "\n"
          ]
        }
      ]
    },
    {
      "cell_type": "code",
      "source": [
        "PCA = sklearn.decomposition.PCA\n",
        "th_pca = PCA(n_components=2).fit(thTFVects.toarray())\n",
        "reduced_th = th_pca.transform(thTFVects.toarray())\n",
        "\n",
        "components = th_pca.components_\n",
        "keyword_ids = list(set(order_centroids[:,:10].flatten())) #Get the ids of the most distinguishing words(features) from your kmeans model.\n",
        "words = [terms[i] for i in keyword_ids]#Turn the ids into words.\n",
        "x = components[:,keyword_ids][0,:] #Find the coordinates of those words in your biplot.\n",
        "y = components[:,keyword_ids][1,:]"
      ],
      "metadata": {
        "id": "ZMx2iF7M2rBQ"
      },
      "execution_count": 128,
      "outputs": []
    },
    {
      "cell_type": "code",
      "source": [
        "\n",
        "\n",
        "color = {'Aloha State': 'red', 'Karuizawa': 'blue'}\n",
        "th_colar = [color[c] for c in df['category']]\n",
        "\n",
        "fig = plt.figure(figsize = (10,6))\n",
        "ax = fig.add_subplot(111)\n",
        "ax.set_frame_on(False)\n",
        "ax.scatter(reduced_th[:, 0], reduced_th[:, 1], color = th_colar, alpha = 0.5, label = th_colar)\n",
        "plt.xticks(())\n",
        "plt.yticks(())\n",
        "plt.title('True Classes')\n",
        "plt.show()"
      ],
      "metadata": {
        "id": "By74m2BDuakF",
        "colab": {
          "base_uri": "https://localhost:8080/",
          "height": 373
        },
        "outputId": "c478e098-d1a1-4a1c-9d99-37351e37f467"
      },
      "execution_count": 129,
      "outputs": [
        {
          "output_type": "display_data",
          "data": {
            "image/png": "[encoded data removed]",
            "text/plain": [
              "<Figure size 720x432 with 1 Axes>"
            ]
          },
          "metadata": {}
        }
      ]
    },
    {
      "cell_type": "code",
      "source": [
        "#@title  { form-width: \"300px\" }\n",
        "#@title\n",
        "name_cate = ['Aloha State', 'Karuizawa']\n",
        "colors_p = [color[name_cate[l]] for l in k_m.labels_]"
      ],
      "metadata": {
        "id": "MzDt7MMgxOJB"
      },
      "execution_count": 130,
      "outputs": []
    },
    {
      "cell_type": "code",
      "source": [
        "#@title  { form-width: \"100px\" }\n",
        "#@title  { form-width: \"500px\" }\n",
        "#@title\n",
        "reduced_data = reduced_th\n",
        "fig = plt.figure(figsize = (10,6))\n",
        "ax = fig.add_subplot(111)\n",
        "ax.set_frame_on(False)\n",
        "plt.scatter(reduced_th[:, 0], reduced_th[:, 1], color = colors_p, alpha = 0.5)\n",
        "plt.xticks(())\n",
        "plt.yticks(())\n",
        "plt.title('Predicted Clusters\\n k = 2')\n",
        "plt.show()"
      ],
      "metadata": {
        "id": "M38z9AUgyO_U",
        "colab": {
          "base_uri": "https://localhost:8080/",
          "height": 388
        },
        "outputId": "8bcfe9f1-b496-4c52-c386-1f688a250ebf"
      },
      "execution_count": 131,
      "outputs": [
        {
          "output_type": "display_data",
          "data": {
            "image/png": "[encoded data removed]",
            "text/plain": [
              "<Figure size 720x432 with 1 Axes>"
            ]
          },
          "metadata": {}
        }
      ]
    },
    {
      "cell_type": "code",
      "source": [
        "def plotSilhouette(n_clusters, X):\n",
        "    fig, (ax1, ax2) = plt.subplots(ncols=2, figsize = (15,5))\n",
        "    \n",
        "    ax1.set_xlim([-0.1, 1])\n",
        "    ax1.set_ylim([0, len(X) + (n_clusters + 1) * 10])\n",
        "    clusterer = sklearn.cluster.KMeans(n_clusters=n_clusters, random_state=10)\n",
        "    cluster_labels = clusterer.fit_predict(X)\n",
        "    \n",
        "    silhouette_avg = sklearn.metrics.silhouette_score(X, cluster_labels)\n",
        "\n",
        "    # Compute the silhouette scores for each sample\n",
        "    sample_silhouette_values = sklearn.metrics.silhouette_samples(X, cluster_labels)\n",
        "\n",
        "    y_lower = 10\n",
        "    \n",
        "    for i in range(n_clusters):\n",
        "        ith_cluster_silhouette_values = sample_silhouette_values[cluster_labels == i]\n",
        "\n",
        "        ith_cluster_silhouette_values.sort()\n",
        "\n",
        "        size_cluster_i = ith_cluster_silhouette_values.shape[0]\n",
        "        y_upper = y_lower + size_cluster_i\n",
        "        cmap = matplotlib.cm.get_cmap(\"nipy_spectral\")\n",
        "        color = cmap(float(i) / n_clusters)\n",
        "        ax1.fill_betweenx(np.arange(y_lower, y_upper),\n",
        "                          0, ith_cluster_silhouette_values,\n",
        "                          facecolor=color, edgecolor=color, alpha=0.7)\n",
        "\n",
        "        ax1.text(-0.05, y_lower + 0.5 * size_cluster_i, str(i))\n",
        "\n",
        "        y_lower = y_upper + 10\n",
        "    \n",
        "    ax1.set_title(\"The silhouette plot for the various clusters.\")\n",
        "    ax1.set_xlabel(\"The silhouette coefficient values\")\n",
        "    ax1.set_ylabel(\"Cluster label\")\n",
        "\n",
        "    ax1.axvline(x=silhouette_avg, color=\"red\", linestyle=\"--\")\n",
        "\n",
        "    ax1.set_yticks([])  # Clear the yaxis labels / ticks\n",
        "    ax1.set_xticks([-0.1, 0, 0.2, 0.4, 0.6, 0.8, 1])\n",
        "\n",
        "    # 2nd Plot showing the actual clusters formed\n",
        "    cmap = matplotlib.cm.get_cmap(\"nipy_spectral\")\n",
        "    colors = cmap(float(i) / n_clusters)\n",
        "    ax2.scatter(reduced_data[:, 0], reduced_data[:, 1], marker='.', s=30, lw=0, alpha=0.7,\n",
        "                c=colors)\n",
        "\n",
        "    # Labeling the clusters\n",
        "    centers = clusterer.cluster_centers_\n",
        "    projected_centers = th_pca.transform(centers)\n",
        "    # Draw white circles at cluster centers\n",
        "    ax2.scatter(projected_centers[:, 0], projected_centers[:, 1],\n",
        "                marker='o', c=\"white\", alpha=1, s=200)\n",
        "\n",
        "    for i, c in enumerate(projected_centers):\n",
        "        ax2.scatter(c[0], c[1], marker='$%d$' % i, alpha=1, s=50)\n",
        "\n",
        "    ax2.set_title(\"The visualization of the clustered data.\")\n",
        "    ax2.set_xlabel(\"PC 1\")\n",
        "    ax2.set_ylabel(\"PC 2\")\n",
        "\n",
        "    plt.suptitle((\"Silhouette analysis for KMeans clustering on sample data \"\n",
        "                  \"with n_clusters = %d\" % n_clusters),\n",
        "                 fontsize=14, fontweight='bold')\n",
        "    plt.show()\n",
        "    print(\"For n_clusters = {}, The average silhouette_score is : {:.3f}\".format(n_clusters, silhouette_avg))"
      ],
      "metadata": {
        "id": "Sg99s-81zQeq"
      },
      "execution_count": 132,
      "outputs": []
    },
    {
      "cell_type": "code",
      "source": [
        "X = thTFVects.toarray()\n",
        "plotSilhouette(3,X)"
      ],
      "metadata": {
        "id": "EiS3wx-d1U5G",
        "colab": {
          "base_uri": "https://localhost:8080/",
          "height": 425
        },
        "outputId": "b5dfc82c-2ec0-44fd-aa5a-88d14eeb20b2"
      },
      "execution_count": 133,
      "outputs": [
        {
          "output_type": "stream",
          "name": "stderr",
          "text": [
            "*c* argument looks like a single numeric RGB or RGBA sequence, which should be avoided as value-mapping will have precedence in case its length matches with *x* & *y*.  Please use the *color* keyword-argument or provide a 2-D array with a single row if you intend to specify the same RGB or RGBA value for all points.\n"
          ]
        },
        {
          "output_type": "display_data",
          "data": {
            "image/png": "[encoded data removed]",
            "text/plain": [
              "<Figure size 1080x360 with 2 Axes>"
            ]
          },
          "metadata": {
            "needs_background": "light"
          }
        },
        {
          "output_type": "stream",
          "name": "stdout",
          "text": [
            "For n_clusters = 3, The average silhouette_score is : 0.077\n"
          ]
        }
      ]
    },
    {
      "cell_type": "code",
      "source": [
        "plotSilhouette(6,X)"
      ],
      "metadata": {
        "id": "zjxBycQB1jF_",
        "colab": {
          "base_uri": "https://localhost:8080/",
          "height": 425
        },
        "outputId": "3fdbcf91-198d-4f13-cac6-dc1479494964"
      },
      "execution_count": 134,
      "outputs": [
        {
          "output_type": "stream",
          "name": "stderr",
          "text": [
            "*c* argument looks like a single numeric RGB or RGBA sequence, which should be avoided as value-mapping will have precedence in case its length matches with *x* & *y*.  Please use the *color* keyword-argument or provide a 2-D array with a single row if you intend to specify the same RGB or RGBA value for all points.\n"
          ]
        },
        {
          "output_type": "display_data",
          "data": {
            "image/png": "[encoded data removed]",
            "text/plain": [
              "<Figure size 1080x360 with 2 Axes>"
            ]
          },
          "metadata": {
            "needs_background": "light"
          }
        },
        {
          "output_type": "stream",
          "name": "stdout",
          "text": [
            "For n_clusters = 6, The average silhouette_score is : 0.105\n"
          ]
        }
      ]
    },
    {
      "cell_type": "markdown",
      "source": [
        "**Based on the analysis above, the most appropriate cluster number would be 3. Since I extracted two kinds of text data from the same reality show, terras house, of different seasons, 3 might sound weird. Two seasons should be distinct in a sense that one, season of 'Aloha State', should have more cultural diversity and the other, season of 'Karuizawa' has more cultural homogeneity. However, the difference does not appeat to be explicit.**"
      ],
      "metadata": {
        "id": "IHh0w_N-10qY"
      }
    },
    {
      "cell_type": "markdown",
      "metadata": {
        "id": "gk21zU1YmKhw"
      },
      "source": [
        "## <font color=\"red\">*Exercise 2*</font>\n",
        "\n",
        "<font color=\"red\">Construct cells immediately below this that hierarchically cluster your documents using two approaches, and visualize them with a tree. Interrogate the recursive cluster contents in terms of both documents and closenesses. What does this nested cluster structure reveal about the organization of documents in your sampled corpora? Moreover, if they do worse than kmeans (as above), why do you think this is the case (hint: using metrics if you have ground truth or silhouette if you do not)? \n",
        "\n",
        "<font color=\"red\">***Stretch***: Attempt using different distances into your clustering algorithms. (How) do they change the arrangement of clusters?"
      ]
    },
    {
      "cell_type": "code",
      "source": [
        "th_coocmat = thTFVects * thTFVects.T\n",
        "\n",
        "th_coocmat.setdiag(0)\n",
        "\n",
        "#th_coocmat = 1 - sklearn.metrics.pairwise.cosine_similarity(thTFVects)"
      ],
      "metadata": {
        "id": "SxNjfBal4vnr"
      },
      "execution_count": 135,
      "outputs": []
    },
    {
      "cell_type": "code",
      "source": [
        "selectIndices = []\n",
        "indexToCat = []\n",
        "for c in set(df['category']):\n",
        "    selectIndices += list(df[df['category'] == c].index)[:50]\n",
        "    indexToCat += [c] * 50\n",
        "    #.groupby('category').sum()"
      ],
      "metadata": {
        "id": "vNdexlKAGPhq"
      },
      "execution_count": 136,
      "outputs": []
    },
    {
      "cell_type": "code",
      "source": [
        "type(th_coocmat)"
      ],
      "metadata": {
        "id": "Mr1pd5PE97Pf",
        "colab": {
          "base_uri": "https://localhost:8080/"
        },
        "outputId": "04f3891a-8d52-4560-fa01-e425c64bcfcd"
      },
      "execution_count": 137,
      "outputs": [
        {
          "output_type": "execute_result",
          "data": {
            "text/plain": [
              "scipy.sparse.csr.csr_matrix"
            ]
          },
          "metadata": {},
          "execution_count": 137
        }
      ]
    },
    {
      "cell_type": "code",
      "source": [
        "subCoocMat = th_coocmat\n",
        "\n",
        "linkage_matrix = scipy.cluster.hierarchy.ward(subCoocMat.toarray())\n",
        "linkage_matrix[:10]"
      ],
      "metadata": {
        "id": "V0t3B8AlGVTy",
        "colab": {
          "base_uri": "https://localhost:8080/"
        },
        "outputId": "3a05fc7c-bdab-4235-e021-a293d1f87a95"
      },
      "execution_count": 138,
      "outputs": [
        {
          "output_type": "stream",
          "name": "stderr",
          "text": [
            "/usr/local/lib/python3.7/dist-packages/scipy/cluster/hierarchy.py:830: ClusterWarning: scipy.cluster: The symmetric non-negative hollow observation matrix looks suspiciously like an uncondensed distance matrix\n",
            "  return linkage(y, method='ward', metric='euclidean')\n"
          ]
        },
        {
          "output_type": "execute_result",
          "data": {
            "text/plain": [
              "array([[12.        , 15.        ,  0.31898668,  2.        ],\n",
              "       [11.        , 13.        ,  0.36067808,  2.        ],\n",
              "       [14.        , 72.        ,  0.38044424,  3.        ],\n",
              "       [47.        , 49.        ,  0.40273719,  2.        ],\n",
              "       [41.        , 43.        ,  0.41568424,  2.        ],\n",
              "       [51.        , 75.        ,  0.43837836,  3.        ],\n",
              "       [ 0.        ,  8.        ,  0.4498848 ,  2.        ],\n",
              "       [10.        , 74.        ,  0.45259605,  4.        ],\n",
              "       [46.        , 50.        ,  0.46133837,  2.        ],\n",
              "       [45.        , 77.        ,  0.46308034,  4.        ]])"
            ]
          },
          "metadata": {},
          "execution_count": 138
        }
      ]
    },
    {
      "cell_type": "code",
      "source": [
        "\n",
        "dendDat = scipy.cluster.hierarchy.dendrogram(linkage_matrix, get_leaves=True)"
      ],
      "metadata": {
        "id": "vM_BsHncGgNF",
        "colab": {
          "base_uri": "https://localhost:8080/",
          "height": 263
        },
        "outputId": "846e7fc1-e11f-4e77-b358-93531dceb020"
      },
      "execution_count": 139,
      "outputs": [
        {
          "output_type": "display_data",
          "data": {
            "image/png": "[encoded data removed]",
            "text/plain": [
              "<Figure size 432x288 with 1 Axes>"
            ]
          },
          "metadata": {
            "needs_background": "light"
          }
        }
      ]
    },
    {
      "cell_type": "code",
      "source": [
        "dendrogramDat = scipy.cluster.hierarchy.dendrogram(linkage_matrix, p=4, truncate_mode='level', get_leaves=True)"
      ],
      "metadata": {
        "id": "Z0sSqEc4Gnl2",
        "colab": {
          "base_uri": "https://localhost:8080/",
          "height": 272
        },
        "outputId": "c0bba799-a77e-4657-b2d4-e2644169b3c6"
      },
      "execution_count": 140,
      "outputs": [
        {
          "output_type": "display_data",
          "data": {
            "image/png": "[encoded data removed]",
            "text/plain": [
              "<Figure size 432x288 with 1 Axes>"
            ]
          },
          "metadata": {
            "needs_background": "light"
          }
        }
      ]
    },
    {
      "cell_type": "code",
      "source": [
        "#with fcluster method\n",
        "hierarchicalClusters = scipy.cluster.hierarchy.fcluster(linkage_matrix, 3, 'maxclust')\n",
        "linkage_matrix_full = scipy.cluster.hierarchy.ward(th_coocmat.toarray())\n",
        "hierarchicalClusters_full = scipy.cluster.hierarchy.fcluster(linkage_matrix_full, 4, 'maxclust')\n",
        "def print_results(result):\n",
        "  print(\"For our complete clusters:\")\n",
        "  print(\"Homogeneity: {:0.3f}\".format(sklearn.metrics.homogeneity_score(df['category'], result)))\n",
        "  print(\"Completeness: {:0.3f}\".format(sklearn.metrics.completeness_score(df['category'], result)))\n",
        "  print(\"V-measure: {:0.3f}\".format(sklearn.metrics.v_measure_score(df['category'], result)))\n",
        "  print(\"Adjusted Rand Score: {:0.3f}\".format(sklearn.metrics.adjusted_rand_score(df['category'], result)))"
      ],
      "metadata": {
        "id": "7R6QQRMsGzE0",
        "colab": {
          "base_uri": "https://localhost:8080/"
        },
        "outputId": "6c9cf275-c8ae-490d-acfb-36df281f9fdb"
      },
      "execution_count": 141,
      "outputs": [
        {
          "output_type": "stream",
          "name": "stderr",
          "text": [
            "/usr/local/lib/python3.7/dist-packages/scipy/cluster/hierarchy.py:830: ClusterWarning: scipy.cluster: The symmetric non-negative hollow observation matrix looks suspiciously like an uncondensed distance matrix\n",
            "  return linkage(y, method='ward', metric='euclidean')\n"
          ]
        }
      ]
    },
    {
      "cell_type": "code",
      "source": [
        "dendDat = scipy.cluster.hierarchy.dendrogram(linkage_matrix_full, p=4, truncate_mode='level', get_leaves=True)"
      ],
      "metadata": {
        "id": "HPaaSyTjK87a",
        "colab": {
          "base_uri": "https://localhost:8080/",
          "height": 272
        },
        "outputId": "14009ca9-9bf4-4e4e-81fe-a5d271629d41"
      },
      "execution_count": 142,
      "outputs": [
        {
          "output_type": "display_data",
          "data": {
            "image/png": "[encoded data removed]",
            "text/plain": [
              "<Figure size 432x288 with 1 Axes>"
            ]
          },
          "metadata": {
            "needs_background": "light"
          }
        }
      ]
    },
    {
      "cell_type": "code",
      "source": [
        "#With ncluster method\n",
        "print_results(hierarchicalClusters_full)"
      ],
      "metadata": {
        "id": "tMtjChSYI1uM",
        "colab": {
          "base_uri": "https://localhost:8080/"
        },
        "outputId": "275569c2-ba27-4510-f3a0-492c21d4ef37"
      },
      "execution_count": 143,
      "outputs": [
        {
          "output_type": "stream",
          "name": "stdout",
          "text": [
            "For our complete clusters:\n",
            "Homogeneity: 0.918\n",
            "Completeness: 0.467\n",
            "V-measure: 0.619\n",
            "Adjusted Rand Score: 0.481\n"
          ]
        }
      ]
    },
    {
      "cell_type": "code",
      "source": [
        "#with simple decision tree\n",
        "print_results(hierarchicalClusters)"
      ],
      "metadata": {
        "id": "kBaFZc5VLWk8",
        "colab": {
          "base_uri": "https://localhost:8080/"
        },
        "outputId": "cd468720-5d28-4fcb-b6fc-1c7d262e2aa7"
      },
      "execution_count": 144,
      "outputs": [
        {
          "output_type": "stream",
          "name": "stdout",
          "text": [
            "For our complete clusters:\n",
            "Homogeneity: 0.389\n",
            "Completeness: 0.287\n",
            "V-measure: 0.331\n",
            "Adjusted Rand Score: 0.138\n"
          ]
        }
      ]
    },
    {
      "cell_type": "code",
      "source": [
        "df['wald_pred']= hierarchicalClusters_full"
      ],
      "metadata": {
        "id": "CJWJXikGHMQV"
      },
      "execution_count": 145,
      "outputs": []
    },
    {
      "cell_type": "markdown",
      "source": [
        "**Comparing between ones with simple decision tree method and ncluster method, we can see that n cluster method is more capable of capturing homogeneity and completeness of the documents. Also, decision methods supports that the number of the cluster on our datasets is 3.**\n",
        "\n",
        "**In a comparison with k-mean method, decision tree methods are doing the way better job. Reasons for this might be nature of hierarchical clustering. The method works better in clustering text data, but it is not working well with huge amount of datasets. Then, since my text data is not as big as 1 billion sentences, it worked pretty well for my analysis.**"
      ],
      "metadata": {
        "id": "VqtVpyBMLlyS"
      }
    },
    {
      "cell_type": "markdown",
      "metadata": {
        "id": "jkjF1jmRmKh2"
      },
      "source": [
        "## <font color=\"red\">*Exercise 3*</font>\n",
        "\n",
        "<font color=\"red\">Construct cells immediately below this that topic model documents related to your anticipated final project. Interrogate and visually plot (e.g., as a bar graph?) the topic-word loadings and the document-topic loadings. What does this topic structure reveal about the distribution of contents across your documents? Systematically vary the $\\alpha$, $\\eta$, and topic number of the model for your text and describe in detail whether and how these changes led to distinctive outcomes, visible to you as analyst.  \n",
        "\n",
        "<font color=\"red\">**Stretch**: Cluster your documents, but instead of using words alone, use their topic loadings as an additional set of features. Do these topic loadings increase the apparent semantic coherence of your clusters?</font> "
      ]
    },
    {
      "cell_type": "code",
      "execution_count": 146,
      "metadata": {
        "id": "D7hIA4hPgcc5"
      },
      "outputs": [],
      "source": [
        "#@title\n",
        "from gensim.models import HdpModel"
      ]
    },
    {
      "cell_type": "code",
      "source": [
        "def dropMissing(wordLst, vocab):\n",
        "    return [w for w in wordLst if w in vocab]"
      ],
      "metadata": {
        "id": "2JEUvL39MiXO"
      },
      "execution_count": 147,
      "outputs": []
    },
    {
      "cell_type": "code",
      "source": [
        "df['tokenized_text'] = df['raw_data'].apply(lambda x: lucem_illud.word_tokenize(x))\n",
        "df['normalized_tokens'] = df['tokenized_text'].apply(lambda x: lucem_illud.normalizeTokens(x))\n",
        "df['reduced_tokens'] = df['normalized_tokens'].apply(lambda x: dropMissing(x, thTFvectorizer.vocabulary_.keys()))"
      ],
      "metadata": {
        "id": "R3isRX0FOsLa"
      },
      "execution_count": 148,
      "outputs": []
    },
    {
      "cell_type": "code",
      "source": [
        "dictionary = gensim.corpora.Dictionary(df['reduced_tokens'])\n",
        "corpus = [dictionary.doc2bow(text) for text in df['reduced_tokens']]\n",
        "gensim.corpora.MmCorpus.serialize('senate.mm', corpus)\n",
        "senmm = gensim.corpora.MmCorpus('senate.mm')\n",
        "senlda = gensim.models.ldamodel.LdaModel(corpus=senmm, id2word=dictionary, num_topics=10, alpha='auto', eta='auto')"
      ],
      "metadata": {
        "id": "5MauF5E2QIW8"
      },
      "execution_count": 149,
      "outputs": []
    },
    {
      "cell_type": "code",
      "source": [
        "df['name'] = index_hw"
      ],
      "metadata": {
        "id": "i0ybJoZ5RMP8"
      },
      "execution_count": 150,
      "outputs": []
    },
    {
      "cell_type": "code",
      "source": [
        "sen1Bow = dictionary.doc2bow(df['reduced_tokens'][0])\n",
        "sen1lda = senlda[sen1Bow]\n",
        "ldaDF = pandas.DataFrame({\n",
        "        'name' : df['name'],\n",
        "        'topics' : [senlda[dictionary.doc2bow(l)] for l in df['reduced_tokens']]\n",
        "    })"
      ],
      "metadata": {
        "id": "TQ1N0ffMRFd1"
      },
      "execution_count": 155,
      "outputs": []
    },
    {
      "cell_type": "code",
      "source": [
        "topicsProbDict = {i : [0] * len(ldaDF) for i in range(senlda.num_topics)}\n",
        "\n",
        "#Load them into the dict\n",
        "for index, topicTuples in enumerate(ldaDF['topics']):\n",
        "    for topicNum, prob in topicTuples:\n",
        "        topicsProbDict[topicNum][index] = prob\n",
        "\n",
        "#Update the DataFrame\n",
        "for topicNum in range(senlda.num_topics):\n",
        "    ldaDF['topic_{}'.format(topicNum)] = topicsProbDict[topicNum]\n",
        "\n",
        "ldaDF"
      ],
      "metadata": {
        "id": "ao77mSg7SACV",
        "colab": {
          "base_uri": "https://localhost:8080/",
          "height": 939
        },
        "outputId": "9e520404-0a16-4c0c-e788-d950f144d860"
      },
      "execution_count": 156,
      "outputs": [
        {
          "output_type": "execute_result",
          "data": {
            "text/html": [
              "\n",
              "  <div id=\"df-da4273a3-acf2-4d37-b81c-a84329fd1100\">\n",
              "    <div class=\"colab-df-container\">\n",
              "      <div>\n",
              "<style scoped>\n",
              "    .dataframe tbody tr th:only-of-type {\n",
              "        vertical-align: middle;\n",
              "    }\n",
              "\n",
              "    .dataframe tbody tr th {\n",
              "        vertical-align: top;\n",
              "    }\n",
              "\n",
              "    .dataframe thead th {\n",
              "        text-align: right;\n",
              "    }\n",
              "</style>\n",
              "<table border=\"1\" class=\"dataframe\">\n",
              "  <thead>\n",
              "    <tr style=\"text-align: right;\">\n",
              "      <th></th>\n",
              "      <th>name</th>\n",
              "      <th>topics</th>\n",
              "      <th>topic_0</th>\n",
              "      <th>topic_1</th>\n",
              "      <th>topic_2</th>\n",
              "      <th>topic_3</th>\n",
              "      <th>topic_4</th>\n",
              "      <th>topic_5</th>\n",
              "      <th>topic_6</th>\n",
              "      <th>topic_7</th>\n",
              "      <th>topic_8</th>\n",
              "      <th>topic_9</th>\n",
              "    </tr>\n",
              "  </thead>\n",
              "  <tbody>\n",
              "    <tr>\n",
              "      <th>hw_episode1</th>\n",
              "      <td>hw_episode1</td>\n",
              "      <td>[(3, 0.0718284), (8, 0.92325205)]</td>\n",
              "      <td>0.000000</td>\n",
              "      <td>0.000000</td>\n",
              "      <td>0.0</td>\n",
              "      <td>0.071828</td>\n",
              "      <td>0.000000</td>\n",
              "      <td>0.000000</td>\n",
              "      <td>0.000000</td>\n",
              "      <td>0.0</td>\n",
              "      <td>0.923252</td>\n",
              "      <td>0.0</td>\n",
              "    </tr>\n",
              "    <tr>\n",
              "      <th>hw_episode2</th>\n",
              "      <td>hw_episode2</td>\n",
              "      <td>[(0, 0.9947514)]</td>\n",
              "      <td>0.994751</td>\n",
              "      <td>0.000000</td>\n",
              "      <td>0.0</td>\n",
              "      <td>0.000000</td>\n",
              "      <td>0.000000</td>\n",
              "      <td>0.000000</td>\n",
              "      <td>0.000000</td>\n",
              "      <td>0.0</td>\n",
              "      <td>0.000000</td>\n",
              "      <td>0.0</td>\n",
              "    </tr>\n",
              "    <tr>\n",
              "      <th>hw_episode3</th>\n",
              "      <td>hw_episode3</td>\n",
              "      <td>[(0, 0.46686482), (8, 0.52755594)]</td>\n",
              "      <td>0.466865</td>\n",
              "      <td>0.000000</td>\n",
              "      <td>0.0</td>\n",
              "      <td>0.000000</td>\n",
              "      <td>0.000000</td>\n",
              "      <td>0.000000</td>\n",
              "      <td>0.000000</td>\n",
              "      <td>0.0</td>\n",
              "      <td>0.527556</td>\n",
              "      <td>0.0</td>\n",
              "    </tr>\n",
              "    <tr>\n",
              "      <th>hw_episode4</th>\n",
              "      <td>hw_episode4</td>\n",
              "      <td>[(0, 0.036742955), (3, 0.20905058), (5, 0.6255...</td>\n",
              "      <td>0.036743</td>\n",
              "      <td>0.000000</td>\n",
              "      <td>0.0</td>\n",
              "      <td>0.209051</td>\n",
              "      <td>0.000000</td>\n",
              "      <td>0.625524</td>\n",
              "      <td>0.000000</td>\n",
              "      <td>0.0</td>\n",
              "      <td>0.123835</td>\n",
              "      <td>0.0</td>\n",
              "    </tr>\n",
              "    <tr>\n",
              "      <th>hw_episode5</th>\n",
              "      <td>hw_episode5</td>\n",
              "      <td>[(3, 0.119143486), (5, 0.87628675)]</td>\n",
              "      <td>0.000000</td>\n",
              "      <td>0.000000</td>\n",
              "      <td>0.0</td>\n",
              "      <td>0.119143</td>\n",
              "      <td>0.000000</td>\n",
              "      <td>0.876287</td>\n",
              "      <td>0.000000</td>\n",
              "      <td>0.0</td>\n",
              "      <td>0.000000</td>\n",
              "      <td>0.0</td>\n",
              "    </tr>\n",
              "    <tr>\n",
              "      <th>...</th>\n",
              "      <td>...</td>\n",
              "      <td>...</td>\n",
              "      <td>...</td>\n",
              "      <td>...</td>\n",
              "      <td>...</td>\n",
              "      <td>...</td>\n",
              "      <td>...</td>\n",
              "      <td>...</td>\n",
              "      <td>...</td>\n",
              "      <td>...</td>\n",
              "      <td>...</td>\n",
              "      <td>...</td>\n",
              "    </tr>\n",
              "    <tr>\n",
              "      <th>kr_episode32</th>\n",
              "      <td>kr_episode32</td>\n",
              "      <td>[(0, 0.4051316), (4, 0.014466815), (6, 0.57600...</td>\n",
              "      <td>0.405132</td>\n",
              "      <td>0.000000</td>\n",
              "      <td>0.0</td>\n",
              "      <td>0.000000</td>\n",
              "      <td>0.014467</td>\n",
              "      <td>0.000000</td>\n",
              "      <td>0.576001</td>\n",
              "      <td>0.0</td>\n",
              "      <td>0.000000</td>\n",
              "      <td>0.0</td>\n",
              "    </tr>\n",
              "    <tr>\n",
              "      <th>kr_episode33</th>\n",
              "      <td>kr_episode33</td>\n",
              "      <td>[(0, 0.9937399)]</td>\n",
              "      <td>0.993740</td>\n",
              "      <td>0.000000</td>\n",
              "      <td>0.0</td>\n",
              "      <td>0.000000</td>\n",
              "      <td>0.000000</td>\n",
              "      <td>0.000000</td>\n",
              "      <td>0.000000</td>\n",
              "      <td>0.0</td>\n",
              "      <td>0.000000</td>\n",
              "      <td>0.0</td>\n",
              "    </tr>\n",
              "    <tr>\n",
              "      <th>kr_episode34</th>\n",
              "      <td>kr_episode34</td>\n",
              "      <td>[(0, 0.94488037), (4, 0.050087128)]</td>\n",
              "      <td>0.944880</td>\n",
              "      <td>0.000000</td>\n",
              "      <td>0.0</td>\n",
              "      <td>0.000000</td>\n",
              "      <td>0.050087</td>\n",
              "      <td>0.000000</td>\n",
              "      <td>0.000000</td>\n",
              "      <td>0.0</td>\n",
              "      <td>0.000000</td>\n",
              "      <td>0.0</td>\n",
              "    </tr>\n",
              "    <tr>\n",
              "      <th>kr_episode35</th>\n",
              "      <td>kr_episode35</td>\n",
              "      <td>[(1, 0.86593664), (5, 0.12767567)]</td>\n",
              "      <td>0.000000</td>\n",
              "      <td>0.865937</td>\n",
              "      <td>0.0</td>\n",
              "      <td>0.000000</td>\n",
              "      <td>0.000000</td>\n",
              "      <td>0.127676</td>\n",
              "      <td>0.000000</td>\n",
              "      <td>0.0</td>\n",
              "      <td>0.000000</td>\n",
              "      <td>0.0</td>\n",
              "    </tr>\n",
              "    <tr>\n",
              "      <th>kr_episode36</th>\n",
              "      <td>kr_episode36</td>\n",
              "      <td>[(5, 0.9971358)]</td>\n",
              "      <td>0.000000</td>\n",
              "      <td>0.000000</td>\n",
              "      <td>0.0</td>\n",
              "      <td>0.000000</td>\n",
              "      <td>0.000000</td>\n",
              "      <td>0.997136</td>\n",
              "      <td>0.000000</td>\n",
              "      <td>0.0</td>\n",
              "      <td>0.000000</td>\n",
              "      <td>0.0</td>\n",
              "    </tr>\n",
              "  </tbody>\n",
              "</table>\n",
              "<p>72 rows × 12 columns</p>\n",
              "</div>\n",
              "      <button class=\"colab-df-convert\" onclick=\"convertToInteractive('df-da4273a3-acf2-4d37-b81c-a84329fd1100')\"\n",
              "              title=\"Convert this dataframe to an interactive table.\"\n",
              "              style=\"display:none;\">\n",
              "        \n",
              "  <svg xmlns=\"http://www.w3.org/2000/svg\" height=\"24px\"viewBox=\"0 0 24 24\"\n",
              "       width=\"24px\">\n",
              "    <path d=\"M0 0h24v24H0V0z\" fill=\"none\"/>\n",
              "    <path d=\"M18.56 5.44l.94 2.06.94-2.06 2.06-.94-2.06-.94-.94-2.06-.94 2.06-2.06.94zm-11 1L8.5 8.5l.94-2.06 2.06-.94-2.06-.94L8.5 2.5l-.94 2.06-2.06.94zm10 10l.94 2.06.94-2.06 2.06-.94-2.06-.94-.94-2.06-.94 2.06-2.06.94z\"/><path d=\"M17.41 7.96l-1.37-1.37c-.4-.4-.92-.59-1.43-.59-.52 0-1.04.2-1.43.59L10.3 9.45l-7.72 7.72c-.78.78-.78 2.05 0 2.83L4 21.41c.39.39.9.59 1.41.59.51 0 1.02-.2 1.41-.59l7.78-7.78 2.81-2.81c.8-.78.8-2.07 0-2.86zM5.41 20L4 18.59l7.72-7.72 1.47 1.35L5.41 20z\"/>\n",
              "  </svg>\n",
              "      </button>\n",
              "      \n",
              "  <style>\n",
              "    .colab-df-container {\n",
              "      display:flex;\n",
              "      flex-wrap:wrap;\n",
              "      gap: 12px;\n",
              "    }\n",
              "\n",
              "    .colab-df-convert {\n",
              "      background-color: #E8F0FE;\n",
              "      border: none;\n",
              "      border-radius: 50%;\n",
              "      cursor: pointer;\n",
              "      display: none;\n",
              "      fill: #1967D2;\n",
              "      height: 32px;\n",
              "      padding: 0 0 0 0;\n",
              "      width: 32px;\n",
              "    }\n",
              "\n",
              "    .colab-df-convert:hover {\n",
              "      background-color: #E2EBFA;\n",
              "      box-shadow: 0px 1px 2px rgba(60, 64, 67, 0.3), 0px 1px 3px 1px rgba(60, 64, 67, 0.15);\n",
              "      fill: #174EA6;\n",
              "    }\n",
              "\n",
              "    [theme=dark] .colab-df-convert {\n",
              "      background-color: #3B4455;\n",
              "      fill: #D2E3FC;\n",
              "    }\n",
              "\n",
              "    [theme=dark] .colab-df-convert:hover {\n",
              "      background-color: #434B5C;\n",
              "      box-shadow: 0px 1px 3px 1px rgba(0, 0, 0, 0.15);\n",
              "      filter: drop-shadow(0px 1px 2px rgba(0, 0, 0, 0.3));\n",
              "      fill: #FFFFFF;\n",
              "    }\n",
              "  </style>\n",
              "\n",
              "      <script>\n",
              "        const buttonEl =\n",
              "          document.querySelector('#df-da4273a3-acf2-4d37-b81c-a84329fd1100 button.colab-df-convert');\n",
              "        buttonEl.style.display =\n",
              "          google.colab.kernel.accessAllowed ? 'block' : 'none';\n",
              "\n",
              "        async function convertToInteractive(key) {\n",
              "          const element = document.querySelector('#df-da4273a3-acf2-4d37-b81c-a84329fd1100');\n",
              "          const dataTable =\n",
              "            await google.colab.kernel.invokeFunction('convertToInteractive',\n",
              "                                                     [key], {});\n",
              "          if (!dataTable) return;\n",
              "\n",
              "          const docLinkHtml = 'Like what you see? Visit the ' +\n",
              "            '<a target=\"_blank\" href=https://colab.research.google.com/notebooks/data_table.ipynb>data table notebook</a>'\n",
              "            + ' to learn more about interactive tables.';\n",
              "          element.innerHTML = '';\n",
              "          dataTable['output_type'] = 'display_data';\n",
              "          await google.colab.output.renderOutput(dataTable, element);\n",
              "          const docLink = document.createElement('div');\n",
              "          docLink.innerHTML = docLinkHtml;\n",
              "          element.appendChild(docLink);\n",
              "        }\n",
              "      </script>\n",
              "    </div>\n",
              "  </div>\n",
              "  "
            ],
            "text/plain": [
              "                      name  ... topic_9\n",
              "hw_episode1    hw_episode1  ...     0.0\n",
              "hw_episode2    hw_episode2  ...     0.0\n",
              "hw_episode3    hw_episode3  ...     0.0\n",
              "hw_episode4    hw_episode4  ...     0.0\n",
              "hw_episode5    hw_episode5  ...     0.0\n",
              "...                    ...  ...     ...\n",
              "kr_episode32  kr_episode32  ...     0.0\n",
              "kr_episode33  kr_episode33  ...     0.0\n",
              "kr_episode34  kr_episode34  ...     0.0\n",
              "kr_episode35  kr_episode35  ...     0.0\n",
              "kr_episode36  kr_episode36  ...     0.0\n",
              "\n",
              "[72 rows x 12 columns]"
            ]
          },
          "metadata": {},
          "execution_count": 156
        }
      ]
    },
    {
      "cell_type": "code",
      "source": [
        "def plot_bar(ldaDFVis,ldaDFVisNames):\n",
        "  N = 10\n",
        "  ind = np.arange(N)\n",
        "  K = senlda.num_topics  # N documents, K topics\n",
        "  ind = np.arange(N)  # the x-axis locations for the novels\n",
        "  width = 0.5  # the width of the bars\n",
        "  plots = []\n",
        "  height_cumulative = np.zeros(N)\n",
        "\n",
        "  for k in range(K):\n",
        "      color = plt.cm.coolwarm(k/K, 1)\n",
        "      if k == 0:\n",
        "          p = plt.bar(ind, ldaDFVis[:, k], width, color=color)\n",
        "      else:\n",
        "          p = plt.bar(ind, ldaDFVis[:, k], width, bottom=height_cumulative, color=color)\n",
        "      height_cumulative += ldaDFVis[:, k]\n",
        "      plots.append(p)\n",
        "      \n",
        "\n",
        "  plt.ylim((0, 1))  # proportions sum to 1, so the height of the stacked bars is 1\n",
        "  plt.ylabel('Topics')\n",
        "\n",
        "  plt.title('Topics in Press Releases')\n",
        "  plt.xticks(ind+width/2, ldaDFVisNames, rotation='vertical')\n",
        "\n",
        "  plt.yticks(np.arange(0, 1, 10))\n",
        "  topic_labels = ['Topic #{}'.format(k) for k in range(K)]\n",
        "  plt.legend([p[0] for p in plots], topic_labels, loc='center left', frameon=True,  bbox_to_anchor = (1, .5))\n",
        "\n",
        "  plt.show()"
      ],
      "metadata": {
        "id": "NXG-QYAJTSGJ"
      },
      "execution_count": 157,
      "outputs": []
    },
    {
      "cell_type": "code",
      "source": [
        "for i in range(7):\n",
        "  ldaDFV = ldaDF[i*10:(i+1)*10][['topic_%d' %x for x in range(10)]]\n",
        "  ldaDFVisN = ldaDF[i*10:(i+1)*10][['name']]\n",
        "  ldaDFVis = ldaDFV.to_numpy()\n",
        "  ldaDFVisNames = ldaDFVisN.to_numpy()\n",
        "  plot_bar(ldaDFVis, ldaDFVisNames)"
      ],
      "metadata": {
        "id": "5e3qnFL3aBop",
        "colab": {
          "base_uri": "https://localhost:8080/",
          "height": 1000
        },
        "outputId": "e777347a-5559-4180-ff04-7485f4bf9f97"
      },
      "execution_count": 158,
      "outputs": [
        {
          "output_type": "display_data",
          "data": {
            "image/png": "[encoded data removed]",
            "text/plain": [
              "<Figure size 432x288 with 1 Axes>"
            ]
          },
          "metadata": {
            "needs_background": "light"
          }
        },
        {
          "output_type": "display_data",
          "data": {
            "image/png": "[encoded data removed]",
            "text/plain": [
              "<Figure size 432x288 with 1 Axes>"
            ]
          },
          "metadata": {
            "needs_background": "light"
          }
        },
        {
          "output_type": "display_data",
          "data": {
            "image/png": "[encoded data removed]",
            "text/plain": [
              "<Figure size 432x288 with 1 Axes>"
            ]
          },
          "metadata": {
            "needs_background": "light"
          }
        },
        {
          "output_type": "display_data",
          "data": {
            "image/png": "[encoded data removed]",
            "text/plain": [
              "<Figure size 432x288 with 1 Axes>"
            ]
          },
          "metadata": {
            "needs_background": "light"
          }
        },
        {
          "output_type": "display_data",
          "data": {
            "image/png": "[encoded data removed]",
            "text/plain": [
              "<Figure size 432x288 with 1 Axes>"
            ]
          },
          "metadata": {
            "needs_background": "light"
          }
        },
        {
          "output_type": "display_data",
          "data": {
            "image/png": "[encoded data removed]",
            "text/plain": [
              "<Figure size 432x288 with 1 Axes>"
            ]
          },
          "metadata": {
            "needs_background": "light"
          }
        },
        {
          "output_type": "display_data",
          "data": {
            "image/png": "[encoded data removed]",
            "text/plain": [
              "<Figure size 432x288 with 1 Axes>"
            ]
          },
          "metadata": {
            "needs_background": "light"
          }
        }
      ]
    },
    {
      "cell_type": "code",
      "source": [
        "topic_labels = ['Topic #{}'.format(k) for k in range(senlda.num_topics)]\n",
        "plt.pcolor(ldaDFVis, norm=None, cmap='Blues')\n",
        "plt.yticks(np.arange(ldaDFVis.shape[0])+0.5, ldaDFVisNames);\n",
        "plt.xticks(np.arange(ldaDFVis.shape[1])+0.5, topic_labels);\n",
        "\n",
        "# flip the y-axis so the texts are in the order we anticipate (Austen first, then Brontë)\n",
        "plt.gca().invert_yaxis()\n",
        "\n",
        "# rotate the ticks on the x-axis\n",
        "plt.xticks(rotation=90)\n",
        "\n",
        "# add a legend\n",
        "plt.colorbar(cmap='Blues')\n",
        "plt.tight_layout()  # fixes margins\n",
        "plt.show()"
      ],
      "metadata": {
        "id": "BXFZv-bsTtmP",
        "colab": {
          "base_uri": "https://localhost:8080/",
          "height": 297
        },
        "outputId": "b416f37a-a817-4d6d-93e8-6533a117b538"
      },
      "execution_count": 159,
      "outputs": [
        {
          "output_type": "display_data",
          "data": {
            "image/png": "[encoded data removed]",
            "text/plain": [
              "<Figure size 432x288 with 2 Axes>"
            ]
          },
          "metadata": {
            "needs_background": "light"
          }
        }
      ]
    },
    {
      "cell_type": "code",
      "source": [
        "senlda.show_topic(1)"
      ],
      "metadata": {
        "id": "tijNJ24vTv6t",
        "colab": {
          "base_uri": "https://localhost:8080/"
        },
        "outputId": "8d3f09bc-cc09-40c8-abd2-59be56a8933b"
      },
      "execution_count": 160,
      "outputs": [
        {
          "output_type": "execute_result",
          "data": {
            "text/plain": [
              "[('ami', 0.010005114),\n",
              " ('yui', 0.007837199),\n",
              " ('bite', 0.0069109797),\n",
              " ('naomi', 0.0065224157),\n",
              " ('yusuke', 0.00599198),\n",
              " ('cook', 0.0052124336),\n",
              " ('cheer', 0.0051926924),\n",
              " ('yuudai', 0.0050025973),\n",
              " ('noah', 0.004790229),\n",
              " ('mayu', 0.00453131)]"
            ]
          },
          "metadata": {},
          "execution_count": 160
        }
      ]
    },
    {
      "cell_type": "code",
      "source": [
        "topicsDict = {}\n",
        "for topicNum in range(senlda.num_topics):\n",
        "    topicWords = [w for w, p in senlda.show_topic(topicNum)]\n",
        "    topicsDict['Topic_{}'.format(topicNum)] = topicWords\n",
        "\n",
        "wordRanksDF = pandas.DataFrame(topicsDict)\n",
        "wordRanksDF"
      ],
      "metadata": {
        "id": "NNAghfpeT1Lv",
        "colab": {
          "base_uri": "https://localhost:8080/",
          "height": 363
        },
        "outputId": "d34ce483-1122-4c5e-83e5-b83dce7c80a5"
      },
      "execution_count": 161,
      "outputs": [
        {
          "output_type": "execute_result",
          "data": {
            "text/html": [
              "\n",
              "  <div id=\"df-3fe413f5-c336-45db-b05f-0ea1352bc4df\">\n",
              "    <div class=\"colab-df-container\">\n",
              "      <div>\n",
              "<style scoped>\n",
              "    .dataframe tbody tr th:only-of-type {\n",
              "        vertical-align: middle;\n",
              "    }\n",
              "\n",
              "    .dataframe tbody tr th {\n",
              "        vertical-align: top;\n",
              "    }\n",
              "\n",
              "    .dataframe thead th {\n",
              "        text-align: right;\n",
              "    }\n",
              "</style>\n",
              "<table border=\"1\" class=\"dataframe\">\n",
              "  <thead>\n",
              "    <tr style=\"text-align: right;\">\n",
              "      <th></th>\n",
              "      <th>Topic_0</th>\n",
              "      <th>Topic_1</th>\n",
              "      <th>Topic_2</th>\n",
              "      <th>Topic_3</th>\n",
              "      <th>Topic_4</th>\n",
              "      <th>Topic_5</th>\n",
              "      <th>Topic_6</th>\n",
              "      <th>Topic_7</th>\n",
              "      <th>Topic_8</th>\n",
              "      <th>Topic_9</th>\n",
              "    </tr>\n",
              "  </thead>\n",
              "  <tbody>\n",
              "    <tr>\n",
              "      <th>0</th>\n",
              "      <td>noah</td>\n",
              "      <td>ami</td>\n",
              "      <td>ami</td>\n",
              "      <td>niki</td>\n",
              "      <td>noah</td>\n",
              "      <td>ami</td>\n",
              "      <td>noah</td>\n",
              "      <td>yui</td>\n",
              "      <td>ami</td>\n",
              "      <td>niki</td>\n",
              "    </tr>\n",
              "    <tr>\n",
              "      <th>1</th>\n",
              "      <td>yui</td>\n",
              "      <td>yui</td>\n",
              "      <td>yuudai</td>\n",
              "      <td>ami</td>\n",
              "      <td>yui</td>\n",
              "      <td>bite</td>\n",
              "      <td>yui</td>\n",
              "      <td>cheri</td>\n",
              "      <td>yuudai</td>\n",
              "      <td>wave</td>\n",
              "    </tr>\n",
              "    <tr>\n",
              "      <th>2</th>\n",
              "      <td>cheri</td>\n",
              "      <td>bite</td>\n",
              "      <td>cook</td>\n",
              "      <td>yusuke</td>\n",
              "      <td>bite</td>\n",
              "      <td>yui</td>\n",
              "      <td>chikako</td>\n",
              "      <td>mayu</td>\n",
              "      <td>yusuke</td>\n",
              "      <td>cook</td>\n",
              "    </tr>\n",
              "    <tr>\n",
              "      <th>3</th>\n",
              "      <td>yusuke</td>\n",
              "      <td>naomi</td>\n",
              "      <td>yui</td>\n",
              "      <td>drive</td>\n",
              "      <td>ami</td>\n",
              "      <td>yuudai</td>\n",
              "      <td>cheri</td>\n",
              "      <td>noah</td>\n",
              "      <td>team</td>\n",
              "      <td>ami</td>\n",
              "    </tr>\n",
              "    <tr>\n",
              "      <th>4</th>\n",
              "      <td>aya</td>\n",
              "      <td>yusuke</td>\n",
              "      <td>noah</td>\n",
              "      <td>bite</td>\n",
              "      <td>yuudai</td>\n",
              "      <td>noah</td>\n",
              "      <td>bite</td>\n",
              "      <td>ami</td>\n",
              "      <td>cook</td>\n",
              "      <td>naomi</td>\n",
              "    </tr>\n",
              "    <tr>\n",
              "      <th>5</th>\n",
              "      <td>bite</td>\n",
              "      <td>cook</td>\n",
              "      <td>mayu</td>\n",
              "      <td>cheer</td>\n",
              "      <td>yusuke</td>\n",
              "      <td>yusuke</td>\n",
              "      <td>mayu</td>\n",
              "      <td>niki</td>\n",
              "      <td>soba</td>\n",
              "      <td>yusuke</td>\n",
              "    </tr>\n",
              "    <tr>\n",
              "      <th>6</th>\n",
              "      <td>cheer</td>\n",
              "      <td>cheer</td>\n",
              "      <td>bite</td>\n",
              "      <td>soba</td>\n",
              "      <td>cheer</td>\n",
              "      <td>mayu</td>\n",
              "      <td>forget</td>\n",
              "      <td>wez</td>\n",
              "      <td>bite</td>\n",
              "      <td>cheri</td>\n",
              "    </tr>\n",
              "    <tr>\n",
              "      <th>7</th>\n",
              "      <td>naomi</td>\n",
              "      <td>yuudai</td>\n",
              "      <td>drive</td>\n",
              "      <td>yuudai</td>\n",
              "      <td>niki</td>\n",
              "      <td>word</td>\n",
              "      <td>aya</td>\n",
              "      <td>chikako</td>\n",
              "      <td>cheer</td>\n",
              "      <td>goal</td>\n",
              "    </tr>\n",
              "    <tr>\n",
              "      <th>8</th>\n",
              "      <td>chikako</td>\n",
              "      <td>noah</td>\n",
              "      <td>cheri</td>\n",
              "      <td>begin</td>\n",
              "      <td>aya</td>\n",
              "      <td>team</td>\n",
              "      <td>banana</td>\n",
              "      <td>ex</td>\n",
              "      <td>naomi</td>\n",
              "      <td>bite</td>\n",
              "    </tr>\n",
              "    <tr>\n",
              "      <th>9</th>\n",
              "      <td>wez</td>\n",
              "      <td>mayu</td>\n",
              "      <td>kid</td>\n",
              "      <td>worth</td>\n",
              "      <td>surprise</td>\n",
              "      <td>hockey</td>\n",
              "      <td>cheer</td>\n",
              "      <td>bite</td>\n",
              "      <td>goal</td>\n",
              "      <td>cheer</td>\n",
              "    </tr>\n",
              "  </tbody>\n",
              "</table>\n",
              "</div>\n",
              "      <button class=\"colab-df-convert\" onclick=\"convertToInteractive('df-3fe413f5-c336-45db-b05f-0ea1352bc4df')\"\n",
              "              title=\"Convert this dataframe to an interactive table.\"\n",
              "              style=\"display:none;\">\n",
              "        \n",
              "  <svg xmlns=\"http://www.w3.org/2000/svg\" height=\"24px\"viewBox=\"0 0 24 24\"\n",
              "       width=\"24px\">\n",
              "    <path d=\"M0 0h24v24H0V0z\" fill=\"none\"/>\n",
              "    <path d=\"M18.56 5.44l.94 2.06.94-2.06 2.06-.94-2.06-.94-.94-2.06-.94 2.06-2.06.94zm-11 1L8.5 8.5l.94-2.06 2.06-.94-2.06-.94L8.5 2.5l-.94 2.06-2.06.94zm10 10l.94 2.06.94-2.06 2.06-.94-2.06-.94-.94-2.06-.94 2.06-2.06.94z\"/><path d=\"M17.41 7.96l-1.37-1.37c-.4-.4-.92-.59-1.43-.59-.52 0-1.04.2-1.43.59L10.3 9.45l-7.72 7.72c-.78.78-.78 2.05 0 2.83L4 21.41c.39.39.9.59 1.41.59.51 0 1.02-.2 1.41-.59l7.78-7.78 2.81-2.81c.8-.78.8-2.07 0-2.86zM5.41 20L4 18.59l7.72-7.72 1.47 1.35L5.41 20z\"/>\n",
              "  </svg>\n",
              "      </button>\n",
              "      \n",
              "  <style>\n",
              "    .colab-df-container {\n",
              "      display:flex;\n",
              "      flex-wrap:wrap;\n",
              "      gap: 12px;\n",
              "    }\n",
              "\n",
              "    .colab-df-convert {\n",
              "      background-color: #E8F0FE;\n",
              "      border: none;\n",
              "      border-radius: 50%;\n",
              "      cursor: pointer;\n",
              "      display: none;\n",
              "      fill: #1967D2;\n",
              "      height: 32px;\n",
              "      padding: 0 0 0 0;\n",
              "      width: 32px;\n",
              "    }\n",
              "\n",
              "    .colab-df-convert:hover {\n",
              "      background-color: #E2EBFA;\n",
              "      box-shadow: 0px 1px 2px rgba(60, 64, 67, 0.3), 0px 1px 3px 1px rgba(60, 64, 67, 0.15);\n",
              "      fill: #174EA6;\n",
              "    }\n",
              "\n",
              "    [theme=dark] .colab-df-convert {\n",
              "      background-color: #3B4455;\n",
              "      fill: #D2E3FC;\n",
              "    }\n",
              "\n",
              "    [theme=dark] .colab-df-convert:hover {\n",
              "      background-color: #434B5C;\n",
              "      box-shadow: 0px 1px 3px 1px rgba(0, 0, 0, 0.15);\n",
              "      filter: drop-shadow(0px 1px 2px rgba(0, 0, 0, 0.3));\n",
              "      fill: #FFFFFF;\n",
              "    }\n",
              "  </style>\n",
              "\n",
              "      <script>\n",
              "        const buttonEl =\n",
              "          document.querySelector('#df-3fe413f5-c336-45db-b05f-0ea1352bc4df button.colab-df-convert');\n",
              "        buttonEl.style.display =\n",
              "          google.colab.kernel.accessAllowed ? 'block' : 'none';\n",
              "\n",
              "        async function convertToInteractive(key) {\n",
              "          const element = document.querySelector('#df-3fe413f5-c336-45db-b05f-0ea1352bc4df');\n",
              "          const dataTable =\n",
              "            await google.colab.kernel.invokeFunction('convertToInteractive',\n",
              "                                                     [key], {});\n",
              "          if (!dataTable) return;\n",
              "\n",
              "          const docLinkHtml = 'Like what you see? Visit the ' +\n",
              "            '<a target=\"_blank\" href=https://colab.research.google.com/notebooks/data_table.ipynb>data table notebook</a>'\n",
              "            + ' to learn more about interactive tables.';\n",
              "          element.innerHTML = '';\n",
              "          dataTable['output_type'] = 'display_data';\n",
              "          await google.colab.output.renderOutput(dataTable, element);\n",
              "          const docLink = document.createElement('div');\n",
              "          docLink.innerHTML = docLinkHtml;\n",
              "          element.appendChild(docLink);\n",
              "        }\n",
              "      </script>\n",
              "    </div>\n",
              "  </div>\n",
              "  "
            ],
            "text/plain": [
              "   Topic_0 Topic_1 Topic_2 Topic_3  ...  Topic_6  Topic_7 Topic_8 Topic_9\n",
              "0     noah     ami     ami    niki  ...     noah      yui     ami    niki\n",
              "1      yui     yui  yuudai     ami  ...      yui    cheri  yuudai    wave\n",
              "2    cheri    bite    cook  yusuke  ...  chikako     mayu  yusuke    cook\n",
              "3   yusuke   naomi     yui   drive  ...    cheri     noah    team     ami\n",
              "4      aya  yusuke    noah    bite  ...     bite      ami    cook   naomi\n",
              "5     bite    cook    mayu   cheer  ...     mayu     niki    soba  yusuke\n",
              "6    cheer   cheer    bite    soba  ...   forget      wez    bite   cheri\n",
              "7    naomi  yuudai   drive  yuudai  ...      aya  chikako   cheer    goal\n",
              "8  chikako    noah   cheri   begin  ...   banana       ex   naomi    bite\n",
              "9      wez    mayu     kid   worth  ...    cheer     bite    goal   cheer\n",
              "\n",
              "[10 rows x 10 columns]"
            ]
          },
          "metadata": {},
          "execution_count": 161
        }
      ]
    },
    {
      "cell_type": "code",
      "source": [
        "topic1_df = pandas.DataFrame(senlda.show_topic(9, topn=100))\n",
        "plt.figure()\n",
        "topic1_df.plot.bar(legend = False)\n",
        "plt.title('Probability Distribution of Words, Topic 1')\n",
        "plt.show()"
      ],
      "metadata": {
        "id": "LSeimhr4T8ik",
        "colab": {
          "base_uri": "https://localhost:8080/",
          "height": 301
        },
        "outputId": "ec59f432-159f-4a49-ddff-369a81e518c9"
      },
      "execution_count": 162,
      "outputs": [
        {
          "output_type": "display_data",
          "data": {
            "text/plain": [
              "<Figure size 432x288 with 0 Axes>"
            ]
          },
          "metadata": {}
        },
        {
          "output_type": "display_data",
          "data": {
            "image/png": "[encoded data removed]",
            "text/plain": [
              "<Figure size 432x288 with 1 Axes>"
            ]
          },
          "metadata": {
            "needs_background": "light"
          }
        }
      ]
    },
    {
      "cell_type": "code",
      "source": [
        "senlda1 = gensim.models.ldamodel.LdaModel(corpus=senmm, id2word=dictionary, num_topics=10, eta = 0.00001)\n",
        "senlda2 = gensim.models.ldamodel.LdaModel(corpus=senmm, id2word=dictionary, num_topics=10, eta = 0.9)"
      ],
      "metadata": {
        "id": "fb5Tuz3gUAhB"
      },
      "execution_count": 163,
      "outputs": []
    },
    {
      "cell_type": "code",
      "source": [
        "topic11_df = pandas.DataFrame(senlda1.show_topic(1, topn=50))\n",
        "topic21_df = pandas.DataFrame(senlda2.show_topic(1, topn=50))\n",
        "\n",
        "fig, (ax1, ax2) = plt.subplots(1, 2)\n",
        "fig.set_size_inches(18, 7)\n",
        "topic11_df.plot.bar(legend = False, ax = ax1, title = '$\\eta$  = 0.00001')\n",
        "topic21_df.plot.bar(legend = False, ax = ax2, title = '$\\eta$  = 0.9')\n",
        "plt.show()"
      ],
      "metadata": {
        "id": "quQZbaL6UBML",
        "colab": {
          "base_uri": "https://localhost:8080/",
          "height": 435
        },
        "outputId": "0cbe2cdf-6bb0-4ba7-fe86-27cf9555fe98"
      },
      "execution_count": 164,
      "outputs": [
        {
          "output_type": "display_data",
          "data": {
            "image/png": "[encoded data removed]",
            "text/plain": [
              "<Figure size 1296x504 with 2 Axes>"
            ]
          },
          "metadata": {
            "needs_background": "light"
          }
        }
      ]
    },
    {
      "cell_type": "markdown",
      "source": [
        "**Document-topic leading reveals that, for both seasons, topics of documents moves topic 9 to topic 1 as episode goes on. Then, topic-word leading shows many corpura of names of the people in the show. Since people frequently move out and in within one season, names that appear in the show slightly vary across episodes. Controlling the value of 𝜂 clearly affects the sparcity of word distribution in a certain topic such as topic 1 in the graphs**"
      ],
      "metadata": {
        "id": "jEXvumD_7DZj"
      }
    },
    {
      "cell_type": "markdown",
      "metadata": {
        "id": "g4GpZufrmKh-"
      },
      "source": [
        "\n",
        "\n",
        "## <font color=\"red\">*Exercise 4*</font>\n",
        "\n",
        "<font color=\"red\">Construct cells immediately below this that use dynamic topic models on datasets relevant to your final project. You can also extend the analysis of the COHA or Soap datasets, if relevant to the comparison of data for your projects. (You could possibly use coha_genres dictionary to conduct analysis on topic evolution for a particular genre? What themes do you see evolving throughout these corpora?)"
      ]
    },
    {
      "cell_type": "code",
      "execution_count": 165,
      "metadata": {
        "collapsed": true,
        "id": "v9ZDCu4kmKh5"
      },
      "outputs": [],
      "source": [
        "#@title\n",
        "from gensim.matutils import kullback_leibler"
      ]
    },
    {
      "cell_type": "code",
      "execution_count": 166,
      "metadata": {
        "collapsed": true,
        "id": "YeX8QHwfmKh6"
      },
      "outputs": [],
      "source": [
        "#@title\n",
        "def convert_to_prob(bow):\n",
        "    ps = []\n",
        "    for topic_no, topic_prob in bow:\n",
        "        ps.append(topic_prob)\n",
        "    return ps"
      ]
    },
    {
      "cell_type": "code",
      "execution_count": 167,
      "metadata": {
        "collapsed": true,
        "id": "m5hm5ICQmKh7"
      },
      "outputs": [],
      "source": [
        "#@title\n",
        "import collections"
      ]
    },
    {
      "cell_type": "code",
      "execution_count": 168,
      "metadata": {
        "collapsed": true,
        "id": "u3E8_D5_mKh8"
      },
      "outputs": [],
      "source": [
        "#@title\n",
        "def choose_n(corpus, time_slices, nums=1):\n",
        "    new_corpus = corpus[0:nums]\n",
        "    for time_slice in time_slices[:-1]:\n",
        "        new_corpus = new_corpus + corpus[time_slice:time_slice+nums]\n",
        "    return new_corpus"
      ]
    },
    {
      "cell_type": "code",
      "execution_count": 177,
      "metadata": {
        "collapsed": true,
        "id": "K1rwsCjfmKh8"
      },
      "outputs": [],
      "source": [
        "#@title\n",
        "def split_up(document, doc_size=1000):\n",
        "    new_docs = [document[i:i + doc_size] for i in range(0, len(document), doc_size)]\n",
        "    return(new_docs, len(new_docs))"
      ]
    },
    {
      "cell_type": "code",
      "execution_count": 170,
      "metadata": {
        "collapsed": true,
        "id": "jcUVeDr2mKh9"
      },
      "outputs": [],
      "source": [
        "#@title\n",
        "from gensim.models import ldaseqmodel"
      ]
    },
    {
      "cell_type": "code",
      "source": [
        "nested = list(df['tokenized_text'])\n",
        "dool=[element for sublist in nested for element in sublist]\n",
        "' '.join(dool[0:1500])"
      ],
      "metadata": {
        "id": "jmfeQdfYUaDG",
        "colab": {
          "base_uri": "https://localhost:8080/",
          "height": 177
        },
        "outputId": "65d22dac-cf6b-4b21-8fc2-c0fd710425ca"
      },
      "execution_count": 171,
      "outputs": [
        {
          "output_type": "execute_result",
          "data": {
            "application/vnd.google.colaboratory.intrinsic+json": {
              "type": "string"
            },
            "text/plain": [
              "\"Tonight we start a new season in Hawaii Terrace House Aloha State Hawaii was fun was n't it So much fun We went too It was the most fun I had on a work trip It was really fun I can say it with confidence that I had fun Hawaii Hawaii It was nice was n't it It was But on our last day Yamachan That 's right He got lost at Ala Moana Center It was like give us a break Seriously That was the only hiccup Yu told me that I was definitely the least eligible bachelor You 're the number one bachelor right now Yes he 's number one right now Tokui is so sweet Every day he 'd find out what 's the best burger place for us to go to Yes thank you It 's easy with the Internet Yes the difference was astounding Torichan In Hawaii I realized how different men can be from one another I got in trouble at customs That 's right And one time I got lost You got plastered Yes very You could n't check in You opened your luggage in the lobby You opened all your luggage in the lobby thinking it was your room Did you check in I did What are you talking about What I did it for you I 'm sorry Yu and I went to the front desk together We said That guy has n't checked in yet It was so late They said You 're checking in at 3:00 a.m. Are you serious It was so fun I was happy to be with everyone It really was fun Terrace House is currently available in 190 countries by the way Since it 's been gaining popularity we have our first season abroad Twenty four episodes have been ordered I hope it continues further Yes But how could Hawaii 's clear sky provoke any drama It seems unlikely Yeah very unlikely It 'll let them be more candid And resolve their issues rationally It might go quickly Hawaii I 'm looking forward to it Let 's watch Am I the first one here Hello Hello Nice to meet you Nice to meet you I 'm Yuya Shibusawa I 'm 18 years old I 'm Lauren Tsai Nice to meet you I 'm 18 You 're 18 Yes the same The same Yes Nice The same huh Lauren Yes Lauren Lauren Tsai Tsai Yes Are you from here I was born in Massachusetts I moved to Hawaii when I was seven and I 've been here for about 11 years You 're pretty pale though Everyone You do n't tan Everyone always tells me that That you 're pale Yeah I am I stay in a lot You do n't go outside much I do n't really like the sun Were you born here I was born and raised in Japan Where in Japan In the Yokosuka area Do you know it I do n't sorry You do n't My dad is American Oh okay So you 're a half Yes a half Yeah I just graduated from high school I want to go to acting school Ah to be an actor Yes So I 'm trying to learn English but I know it 'll take time I see Yeah I can learn here You teach me English I teach you Japanese Oh okay please do Please teach me too Wow there 's a pool It even says Terrace House on it There 's a pool Oh wow I want to go in the pool It 's amazing It is It 's like a hotel Definitely Even for a hotel it 's pretty luxurious Hi Hi Hi it 's nice to meet you Nice to meet you I 'm Avian Nice to meet you It 's nice to meet you I 'm Lauren Tsai Lauren Yes Lauren I 'm Shibusawa Shibusawa I 'm Avian Are you half Japanese No I was born here Oh you were born here Yes born and raised here I 've been here for both middle school and high school I was on the Big Island before I lived in Japan for about six years while I was in elementary school What do you do Right now I work at 88 Tees a T shirt company in Waikiki I know it It 's my mom 's shop but I help out I work as a shop employee Well I do other things there too Like things on the web and stuff How old are you I 'm 25 -I mean 26 I just had my birthday Have you seen everything already No not yet You have n't yet Just the pool Oh you saw the pool Want to go see it Yeah let 's go Oh this is the kitchen Wow Beautiful I love white It 's all white It 's fully equipped Feels comfortable to live in This is nice Looks relaxing You 're right the pool It 's beautiful Hi Hello Hello Hi I 'm Eric Nice to meet you Nice to meet you I 'll sit here Is that all right Nice to meet you Nice to meet you Where are you from Hawaii I 'm from Nishinomiya in the Hyogo prefecture in Kansai Can you speak English as well I can but my Japanese is better Oh nice What do you do For work Yes I build furniture A craftsman I guess That kind of work I 'm also starting a café with a friend Out here Yes out here Which café is it We 've decided on a location but we 've only just started You 've just started Yes on the interior and everything I 'm a model and illustrator I 'm not a professional yet but it 's my dream One day I 'd like to work with a company that makes animated films or video games When I 'm done with modeling Nice I enjoy modeling too I see Hello Hello Nice to meet you Nice to meet you We 're expanding Slowly It 's nice to meet you Nice to meet you I 'm Naomi Lorraine Frank It 's nice to meet you Nice to meet you What 's your background by the way I 'm half American and half Japanese Are you from Japan No I was born in America but I 've lived in Japan since I was seven So I 'm totally Japanese So you came from Japan Yes I came from Japan I landed today and immediately came here Today Yes I was just at the airport Wow And pretty much came right here Are you entirely Japanese or half Japanese I 'm half Chinese and half European I 'm not Japanese but part Asian You speak Japanese really well When I was 15 I studied abroad in Japan in Hiroshima I was in Hiroshima for six weeks It made me want to move to Japan so I studied Japanese So you pretty much learned on your own I 'd watch shows like Terrace House and read the subtitles It helps a lot It really helps That 's the best way to learn languages Yes I lived with my Japanese mom so I only spoke Japanese So I stopped using English and now it 's a little Someone 's here Oh wow A musician It 's heavy Hello Hello I 'm Yusuke Aizawa It 's nice to meet you Nice to meet you I 'm Eric Excuse me Are you a musician Yes I 'm into music You 've got a ukulele That 's a ukulele right Yes a ukulele and a guitar Are you from Hawaii I currently live in Hawaii but I 'm originally from Tokyo When did you relocate to Hawaii About three years ago That 's long What did you do in Japan I was playing music in Japan as well Apart from that I was just a student I 'm currently still a student Over here Yes I turned 18 the day before yesterday What Oh we 're the same We 're 18 I 'm 18 Oh really You 're so young I apologize I 'm 27 You 're 27 and she 's 26 I 'm 26 I 'm 23 So that means you 're graduating in September Next May. Oh May that 's right And after you graduate you 're going to pursue a music career I 'd like to continue with music I 'd like to become a top level artist So do you perform in Hawaii I 'll go wherever I 'm asked to Any plans right now Right now I 'll be going to an award ceremony for Hawaiian Music Awards Japan It 's sudden but I 'll be gone for a few days starting on the 29th How sad so soon I released an album last year That album made it to the finals There was an online\""
            ]
          },
          "metadata": {},
          "execution_count": 171
        }
      ]
    },
    {
      "cell_type": "code",
      "source": [
        "df['episode'] = df['name'].apply(lambda x: int(x[10:]))"
      ],
      "metadata": {
        "id": "ux053949y_nH"
      },
      "execution_count": 175,
      "outputs": []
    },
    {
      "cell_type": "code",
      "source": [
        "sliced_corpus = [[],[],[],[]]\n",
        "final_corp = []\n",
        "for text, episode in zip(df['normalized_tokens'], df['episode']):\n",
        "  if episode < 9:\n",
        "    sliced_corpus[0].extend(text)\n",
        "  if 9 <= episode and episode < 18:\n",
        "    sliced_corpus[1].extend(text)\n",
        "  if 18 <= episode and episode < 27:\n",
        "    sliced_corpus[2].extend(text)\n",
        "  if 27 <= episode:\n",
        "    sliced_corpus[3].extend(text)\n",
        "\n",
        "time_slice = [0,0,0,0]\n",
        "for i, lst in enumerate(sliced_corpus):\n",
        "  splited, num = split_up(lst)\n",
        "  for doc in splited:\n",
        "    final_corp.append(doc)\n",
        "  time_slice[i] += num\n",
        "\n",
        "  if np.sum(time_slice) != len(final_corp):\n",
        "    print(np.sum(time_slice), len(final_corp))\n",
        "                                                                                                                                                                                                                                                                                                                                                                                                                                                                                                                      "
      ],
      "metadata": {
        "id": "yTxK7K68xcYD"
      },
      "execution_count": 192,
      "outputs": []
    },
    {
      "cell_type": "code",
      "source": [
        "dic = gensim.corpora.Dictionary(final_corp)\n",
        "corpus =  [dictionary.doc2bow(text) for text in final_corp]\n",
        "gensim.corpora.MmCorpus.serialize('coha.mm', corpus)\n",
        "cohacorpus = gensim.corpora.MmCorpus('coha.mm')"
      ],
      "metadata": {
        "id": "TtdrDllCz0h-"
      },
      "execution_count": 193,
      "outputs": []
    },
    {
      "cell_type": "code",
      "source": [
        "ldaseq = ldaseqmodel.LdaSeqModel(corpus=corpus, id2word=dictionary, time_slice=time_slice, num_topics=3)"
      ],
      "metadata": {
        "colab": {
          "base_uri": "https://localhost:8080/"
        },
        "id": "kfxTQo292n_R",
        "outputId": "ecfe2b4a-cf00-4f1b-de3e-c6ac73b7c8df"
      },
      "execution_count": 195,
      "outputs": [
        {
          "output_type": "stream",
          "name": "stderr",
          "text": [
            "/usr/local/lib/python3.7/dist-packages/gensim/models/ldaseqmodel.py:290: RuntimeWarning: divide by zero encountered in double_scalars\n",
            "  convergence = np.fabs((bound - old_bound) / old_bound)\n"
          ]
        }
      ]
    },
    {
      "cell_type": "code",
      "source": [
        "ldaseq.print_topics(time=0)[1]"
      ],
      "metadata": {
        "colab": {
          "base_uri": "https://localhost:8080/"
        },
        "id": "N5j0lkgd4VUU",
        "outputId": "cce3c788-5e26-418b-eeab-7d3f37196839"
      },
      "execution_count": 196,
      "outputs": [
        {
          "output_type": "execute_result",
          "data": {
            "text/plain": [
              "[('ami', 0.018491444736025788),\n",
              " ('yui', 0.013815977731911273),\n",
              " ('noah', 0.013612917979848038),\n",
              " ('yuudai', 0.009835294693519242),\n",
              " ('bite', 0.009176109183666662),\n",
              " ('mayu', 0.009081036321741755),\n",
              " ('cook', 0.007384267705890817),\n",
              " ('team', 0.006221758770783446),\n",
              " ('soba', 0.005250676551093932),\n",
              " ('hockey', 0.0051567197646410785),\n",
              " ('cheer', 0.004938150604675681),\n",
              " ('surprise', 0.0046581832674525495),\n",
              " ('aya', 0.004438340239564685),\n",
              " ('drive', 0.004046330332131357),\n",
              " ('mizuki', 0.003730285308372573),\n",
              " ('kid', 0.0035289782737274),\n",
              " ('invite', 0.003479614701670271),\n",
              " ('word', 0.0034667245811685252),\n",
              " ('practice', 0.003413968387291812),\n",
              " ('tsuchan', 0.0032727051536271595)]"
            ]
          },
          "metadata": {},
          "execution_count": 196
        }
      ]
    },
    {
      "cell_type": "code",
      "source": [
        "ldaseq.print_topics(time=0)[1]"
      ],
      "metadata": {
        "colab": {
          "base_uri": "https://localhost:8080/"
        },
        "id": "d8J2HlMI8OL3",
        "outputId": "e9538f2b-232a-45ce-c8c8-7d76a8243531"
      },
      "execution_count": 197,
      "outputs": [
        {
          "output_type": "execute_result",
          "data": {
            "text/plain": [
              "[('ami', 0.018491444736025788),\n",
              " ('yui', 0.013815977731911273),\n",
              " ('noah', 0.013612917979848038),\n",
              " ('yuudai', 0.009835294693519242),\n",
              " ('bite', 0.009176109183666662),\n",
              " ('mayu', 0.009081036321741755),\n",
              " ('cook', 0.007384267705890817),\n",
              " ('team', 0.006221758770783446),\n",
              " ('soba', 0.005250676551093932),\n",
              " ('hockey', 0.0051567197646410785),\n",
              " ('cheer', 0.004938150604675681),\n",
              " ('surprise', 0.0046581832674525495),\n",
              " ('aya', 0.004438340239564685),\n",
              " ('drive', 0.004046330332131357),\n",
              " ('mizuki', 0.003730285308372573),\n",
              " ('kid', 0.0035289782737274),\n",
              " ('invite', 0.003479614701670271),\n",
              " ('word', 0.0034667245811685252),\n",
              " ('practice', 0.003413968387291812),\n",
              " ('tsuchan', 0.0032727051536271595)]"
            ]
          },
          "metadata": {},
          "execution_count": 197
        }
      ]
    },
    {
      "cell_type": "code",
      "source": [
        ""
      ],
      "metadata": {
        "id": "ssCp2ayG9uK2"
      },
      "execution_count": null,
      "outputs": []
    }
  ],
  "metadata": {
    "anaconda-cloud": {},
    "kernelspec": {
      "display_name": "Python 3 (ipykernel)",
      "language": "python",
      "name": "python3"
    },
    "language_info": {
      "codemirror_mode": {
        "name": "ipython",
        "version": 3
      },
      "file_extension": ".py",
      "mimetype": "text/x-python",
      "name": "python",
      "nbconvert_exporter": "python",
      "pygments_lexer": "ipython3",
      "version": "3.9.7"
    },
    "colab": {
      "name": "week3_ttsujikawa.ipynb",
      "provenance": [],
      "collapsed_sections": []
    }
  },
  "nbformat": 4,
  "nbformat_minor": 0
}